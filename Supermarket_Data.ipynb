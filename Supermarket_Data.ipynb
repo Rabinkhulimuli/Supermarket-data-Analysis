{
  "cells": [
    {
      "cell_type": "code",
      "execution_count": 1,
      "metadata": {
        "id": "co61Iyfa2NnB"
      },
      "outputs": [],
      "source": [
        "import numpy as np\n",
        "import pandas as pd\n",
        "import matplotlib.pyplot as plt\n",
        "import seaborn as sns\n"
      ]
    },
    {
      "cell_type": "code",
      "execution_count": 3,
      "metadata": {
        "id": "W_02G7n84C8F"
      },
      "outputs": [],
      "source": [
        "df=pd.read_csv('Superstore Dataset.csv')"
      ]
    },
    {
      "cell_type": "code",
      "execution_count": null,
      "metadata": {
        "colab": {
          "base_uri": "https://localhost:8080/",
          "height": 590
        },
        "id": "pioKW4zm4QnN",
        "outputId": "8d14ba3a-38e4-49b6-f17c-b5d1425d1d1a"
      },
      "outputs": [
        {
          "data": {
            "application/vnd.google.colaboratory.intrinsic+json": {
              "summary": "{\n  \"name\": \"df\",\n  \"rows\": 9994,\n  \"fields\": [\n    {\n      \"column\": \"Order ID\",\n      \"properties\": {\n        \"dtype\": \"string\",\n        \"num_unique_values\": 5009,\n        \"samples\": [\n          \"CA-2021-136329\",\n          \"CA-2022-166499\",\n          \"US-2022-116652\"\n        ],\n        \"semantic_type\": \"\",\n        \"description\": \"\"\n      }\n    },\n    {\n      \"column\": \"Order Date\",\n      \"properties\": {\n        \"dtype\": \"object\",\n        \"num_unique_values\": 1237,\n        \"samples\": [\n          \"2021-01-29\",\n          \"2019-08-09\",\n          \"2021-11-13\"\n        ],\n        \"semantic_type\": \"\",\n        \"description\": \"\"\n      }\n    },\n    {\n      \"column\": \"Ship Date\",\n      \"properties\": {\n        \"dtype\": \"object\",\n        \"num_unique_values\": 1332,\n        \"samples\": [\n          \"2022-11-13\",\n          \"2022-04-02\",\n          \"2022-10-14\"\n        ],\n        \"semantic_type\": \"\",\n        \"description\": \"\"\n      }\n    },\n    {\n      \"column\": \"Ship Mode\",\n      \"properties\": {\n        \"dtype\": \"category\",\n        \"num_unique_values\": 4,\n        \"samples\": [\n          \"First Class\",\n          \"Same Day\",\n          \"Standard Class\"\n        ],\n        \"semantic_type\": \"\",\n        \"description\": \"\"\n      }\n    },\n    {\n      \"column\": \"Customer ID\",\n      \"properties\": {\n        \"dtype\": \"category\",\n        \"num_unique_values\": 793,\n        \"samples\": [\n          \"PJ-19015\",\n          \"PG-18895\",\n          \"JG-15310\"\n        ],\n        \"semantic_type\": \"\",\n        \"description\": \"\"\n      }\n    },\n    {\n      \"column\": \"Customer Name\",\n      \"properties\": {\n        \"dtype\": \"category\",\n        \"num_unique_values\": 793,\n        \"samples\": [\n          \"Pauline Johnson\",\n          \"Paul Gonzalez\",\n          \"Jason Gross\"\n        ],\n        \"semantic_type\": \"\",\n        \"description\": \"\"\n      }\n    },\n    {\n      \"column\": \"Segment\",\n      \"properties\": {\n        \"dtype\": \"category\",\n        \"num_unique_values\": 3,\n        \"samples\": [\n          \"Consumer\",\n          \"Home Office\",\n          \"Corporate\"\n        ],\n        \"semantic_type\": \"\",\n        \"description\": \"\"\n      }\n    },\n    {\n      \"column\": \"Country\",\n      \"properties\": {\n        \"dtype\": \"category\",\n        \"num_unique_values\": 1,\n        \"samples\": [\n          \"United States\"\n        ],\n        \"semantic_type\": \"\",\n        \"description\": \"\"\n      }\n    },\n    {\n      \"column\": \"City\",\n      \"properties\": {\n        \"dtype\": \"category\",\n        \"num_unique_values\": 531,\n        \"samples\": [\n          \"Elyria\"\n        ],\n        \"semantic_type\": \"\",\n        \"description\": \"\"\n      }\n    },\n    {\n      \"column\": \"State\",\n      \"properties\": {\n        \"dtype\": \"category\",\n        \"num_unique_values\": 49,\n        \"samples\": [\n          \"Michigan\"\n        ],\n        \"semantic_type\": \"\",\n        \"description\": \"\"\n      }\n    },\n    {\n      \"column\": \"Postal Code\",\n      \"properties\": {\n        \"dtype\": \"number\",\n        \"std\": 32063,\n        \"min\": 1040,\n        \"max\": 99301,\n        \"num_unique_values\": 631,\n        \"samples\": [\n          80112\n        ],\n        \"semantic_type\": \"\",\n        \"description\": \"\"\n      }\n    },\n    {\n      \"column\": \"Region\",\n      \"properties\": {\n        \"dtype\": \"category\",\n        \"num_unique_values\": 4,\n        \"samples\": [\n          \"East\"\n        ],\n        \"semantic_type\": \"\",\n        \"description\": \"\"\n      }\n    },\n    {\n      \"column\": \"Product ID\",\n      \"properties\": {\n        \"dtype\": \"category\",\n        \"num_unique_values\": 1862,\n        \"samples\": [\n          \"FUR-TA-10000198\"\n        ],\n        \"semantic_type\": \"\",\n        \"description\": \"\"\n      }\n    },\n    {\n      \"column\": \"Category\",\n      \"properties\": {\n        \"dtype\": \"category\",\n        \"num_unique_values\": 3,\n        \"samples\": [\n          \"Office Supplies\"\n        ],\n        \"semantic_type\": \"\",\n        \"description\": \"\"\n      }\n    },\n    {\n      \"column\": \"Sub-Category\",\n      \"properties\": {\n        \"dtype\": \"category\",\n        \"num_unique_values\": 17,\n        \"samples\": [\n          \"Paper\"\n        ],\n        \"semantic_type\": \"\",\n        \"description\": \"\"\n      }\n    },\n    {\n      \"column\": \"Product Name\",\n      \"properties\": {\n        \"dtype\": \"category\",\n        \"num_unique_values\": 1850,\n        \"samples\": [\n          \"Bush Advantage Collection Racetrack Conference Table\"\n        ],\n        \"semantic_type\": \"\",\n        \"description\": \"\"\n      }\n    },\n    {\n      \"column\": \"Sales\",\n      \"properties\": {\n        \"dtype\": \"number\",\n        \"std\": 623.245100508682,\n        \"min\": 0.444,\n        \"max\": 22638.48,\n        \"num_unique_values\": 5825,\n        \"samples\": [\n          50.784\n        ],\n        \"semantic_type\": \"\",\n        \"description\": \"\"\n      }\n    },\n    {\n      \"column\": \"Quantity\",\n      \"properties\": {\n        \"dtype\": \"number\",\n        \"std\": 2,\n        \"min\": 1,\n        \"max\": 14,\n        \"num_unique_values\": 14,\n        \"samples\": [\n          13\n        ],\n        \"semantic_type\": \"\",\n        \"description\": \"\"\n      }\n    },\n    {\n      \"column\": \"Discount\",\n      \"properties\": {\n        \"dtype\": \"number\",\n        \"std\": 0.20645196782569636,\n        \"min\": 0.0,\n        \"max\": 0.8,\n        \"num_unique_values\": 12,\n        \"samples\": [\n          0.32\n        ],\n        \"semantic_type\": \"\",\n        \"description\": \"\"\n      }\n    },\n    {\n      \"column\": \"Profit\",\n      \"properties\": {\n        \"dtype\": \"number\",\n        \"std\": 234.2601076909575,\n        \"min\": -6599.978,\n        \"max\": 8399.976,\n        \"num_unique_values\": 7287,\n        \"samples\": [\n          5.3352\n        ],\n        \"semantic_type\": \"\",\n        \"description\": \"\"\n      }\n    }\n  ]\n}",
              "type": "dataframe",
              "variable_name": "df"
            },
            "text/html": [
              "\n",
              "  <div id=\"df-a57074e4-af08-4825-9b2f-fd3c0e0645df\" class=\"colab-df-container\">\n",
              "    <div>\n",
              "<style scoped>\n",
              "    .dataframe tbody tr th:only-of-type {\n",
              "        vertical-align: middle;\n",
              "    }\n",
              "\n",
              "    .dataframe tbody tr th {\n",
              "        vertical-align: top;\n",
              "    }\n",
              "\n",
              "    .dataframe thead th {\n",
              "        text-align: right;\n",
              "    }\n",
              "</style>\n",
              "<table border=\"1\" class=\"dataframe\">\n",
              "  <thead>\n",
              "    <tr style=\"text-align: right;\">\n",
              "      <th></th>\n",
              "      <th>Order ID</th>\n",
              "      <th>Order Date</th>\n",
              "      <th>Ship Date</th>\n",
              "      <th>Ship Mode</th>\n",
              "      <th>Customer ID</th>\n",
              "      <th>Customer Name</th>\n",
              "      <th>Segment</th>\n",
              "      <th>Country</th>\n",
              "      <th>City</th>\n",
              "      <th>State</th>\n",
              "      <th>Postal Code</th>\n",
              "      <th>Region</th>\n",
              "      <th>Product ID</th>\n",
              "      <th>Category</th>\n",
              "      <th>Sub-Category</th>\n",
              "      <th>Product Name</th>\n",
              "      <th>Sales</th>\n",
              "      <th>Quantity</th>\n",
              "      <th>Discount</th>\n",
              "      <th>Profit</th>\n",
              "    </tr>\n",
              "  </thead>\n",
              "  <tbody>\n",
              "    <tr>\n",
              "      <th>0</th>\n",
              "      <td>CA-2019-103800</td>\n",
              "      <td>2019-01-03</td>\n",
              "      <td>2019-01-07</td>\n",
              "      <td>Standard Class</td>\n",
              "      <td>DP-13000</td>\n",
              "      <td>Darren Powers</td>\n",
              "      <td>Consumer</td>\n",
              "      <td>United States</td>\n",
              "      <td>Houston</td>\n",
              "      <td>Texas</td>\n",
              "      <td>77095</td>\n",
              "      <td>Central</td>\n",
              "      <td>OFF-PA-10000174</td>\n",
              "      <td>Office Supplies</td>\n",
              "      <td>Paper</td>\n",
              "      <td>Message Book, Wirebound, Four 5 1/2\" X 4\" Form...</td>\n",
              "      <td>16.448</td>\n",
              "      <td>2</td>\n",
              "      <td>0.2</td>\n",
              "      <td>5.5512</td>\n",
              "    </tr>\n",
              "    <tr>\n",
              "      <th>1</th>\n",
              "      <td>CA-2019-112326</td>\n",
              "      <td>2019-01-04</td>\n",
              "      <td>2019-01-08</td>\n",
              "      <td>Standard Class</td>\n",
              "      <td>PO-19195</td>\n",
              "      <td>Phillina Ober</td>\n",
              "      <td>Home Office</td>\n",
              "      <td>United States</td>\n",
              "      <td>Naperville</td>\n",
              "      <td>Illinois</td>\n",
              "      <td>60540</td>\n",
              "      <td>Central</td>\n",
              "      <td>OFF-LA-10003223</td>\n",
              "      <td>Office Supplies</td>\n",
              "      <td>Labels</td>\n",
              "      <td>Avery 508</td>\n",
              "      <td>11.784</td>\n",
              "      <td>3</td>\n",
              "      <td>0.2</td>\n",
              "      <td>4.2717</td>\n",
              "    </tr>\n",
              "    <tr>\n",
              "      <th>2</th>\n",
              "      <td>CA-2019-112326</td>\n",
              "      <td>2019-01-04</td>\n",
              "      <td>2019-01-08</td>\n",
              "      <td>Standard Class</td>\n",
              "      <td>PO-19195</td>\n",
              "      <td>Phillina Ober</td>\n",
              "      <td>Home Office</td>\n",
              "      <td>United States</td>\n",
              "      <td>Naperville</td>\n",
              "      <td>Illinois</td>\n",
              "      <td>60540</td>\n",
              "      <td>Central</td>\n",
              "      <td>OFF-ST-10002743</td>\n",
              "      <td>Office Supplies</td>\n",
              "      <td>Storage</td>\n",
              "      <td>SAFCO Boltless Steel Shelving</td>\n",
              "      <td>272.736</td>\n",
              "      <td>3</td>\n",
              "      <td>0.2</td>\n",
              "      <td>-64.7748</td>\n",
              "    </tr>\n",
              "    <tr>\n",
              "      <th>3</th>\n",
              "      <td>CA-2019-112326</td>\n",
              "      <td>2019-01-04</td>\n",
              "      <td>2019-01-08</td>\n",
              "      <td>Standard Class</td>\n",
              "      <td>PO-19195</td>\n",
              "      <td>Phillina Ober</td>\n",
              "      <td>Home Office</td>\n",
              "      <td>United States</td>\n",
              "      <td>Naperville</td>\n",
              "      <td>Illinois</td>\n",
              "      <td>60540</td>\n",
              "      <td>Central</td>\n",
              "      <td>OFF-BI-10004094</td>\n",
              "      <td>Office Supplies</td>\n",
              "      <td>Binders</td>\n",
              "      <td>GBC Standard Plastic Binding Systems Combs</td>\n",
              "      <td>3.540</td>\n",
              "      <td>2</td>\n",
              "      <td>0.8</td>\n",
              "      <td>-5.4870</td>\n",
              "    </tr>\n",
              "    <tr>\n",
              "      <th>4</th>\n",
              "      <td>CA-2019-141817</td>\n",
              "      <td>2019-01-05</td>\n",
              "      <td>2019-01-12</td>\n",
              "      <td>Standard Class</td>\n",
              "      <td>MB-18085</td>\n",
              "      <td>Mick Brown</td>\n",
              "      <td>Consumer</td>\n",
              "      <td>United States</td>\n",
              "      <td>Philadelphia</td>\n",
              "      <td>Pennsylvania</td>\n",
              "      <td>19143</td>\n",
              "      <td>East</td>\n",
              "      <td>OFF-AR-10003478</td>\n",
              "      <td>Office Supplies</td>\n",
              "      <td>Art</td>\n",
              "      <td>Avery Hi-Liter EverBold Pen Style Fluorescent ...</td>\n",
              "      <td>19.536</td>\n",
              "      <td>3</td>\n",
              "      <td>0.2</td>\n",
              "      <td>4.8840</td>\n",
              "    </tr>\n",
              "  </tbody>\n",
              "</table>\n",
              "</div>\n",
              "    <div class=\"colab-df-buttons\">\n",
              "\n",
              "  <div class=\"colab-df-container\">\n",
              "    <button class=\"colab-df-convert\" onclick=\"convertToInteractive('df-a57074e4-af08-4825-9b2f-fd3c0e0645df')\"\n",
              "            title=\"Convert this dataframe to an interactive table.\"\n",
              "            style=\"display:none;\">\n",
              "\n",
              "  <svg xmlns=\"http://www.w3.org/2000/svg\" height=\"24px\" viewBox=\"0 -960 960 960\">\n",
              "    <path d=\"M120-120v-720h720v720H120Zm60-500h600v-160H180v160Zm220 220h160v-160H400v160Zm0 220h160v-160H400v160ZM180-400h160v-160H180v160Zm440 0h160v-160H620v160ZM180-180h160v-160H180v160Zm440 0h160v-160H620v160Z\"/>\n",
              "  </svg>\n",
              "    </button>\n",
              "\n",
              "  <style>\n",
              "    .colab-df-container {\n",
              "      display:flex;\n",
              "      gap: 12px;\n",
              "    }\n",
              "\n",
              "    .colab-df-convert {\n",
              "      background-color: #E8F0FE;\n",
              "      border: none;\n",
              "      border-radius: 50%;\n",
              "      cursor: pointer;\n",
              "      display: none;\n",
              "      fill: #1967D2;\n",
              "      height: 32px;\n",
              "      padding: 0 0 0 0;\n",
              "      width: 32px;\n",
              "    }\n",
              "\n",
              "    .colab-df-convert:hover {\n",
              "      background-color: #E2EBFA;\n",
              "      box-shadow: 0px 1px 2px rgba(60, 64, 67, 0.3), 0px 1px 3px 1px rgba(60, 64, 67, 0.15);\n",
              "      fill: #174EA6;\n",
              "    }\n",
              "\n",
              "    .colab-df-buttons div {\n",
              "      margin-bottom: 4px;\n",
              "    }\n",
              "\n",
              "    [theme=dark] .colab-df-convert {\n",
              "      background-color: #3B4455;\n",
              "      fill: #D2E3FC;\n",
              "    }\n",
              "\n",
              "    [theme=dark] .colab-df-convert:hover {\n",
              "      background-color: #434B5C;\n",
              "      box-shadow: 0px 1px 3px 1px rgba(0, 0, 0, 0.15);\n",
              "      filter: drop-shadow(0px 1px 2px rgba(0, 0, 0, 0.3));\n",
              "      fill: #FFFFFF;\n",
              "    }\n",
              "  </style>\n",
              "\n",
              "    <script>\n",
              "      const buttonEl =\n",
              "        document.querySelector('#df-a57074e4-af08-4825-9b2f-fd3c0e0645df button.colab-df-convert');\n",
              "      buttonEl.style.display =\n",
              "        google.colab.kernel.accessAllowed ? 'block' : 'none';\n",
              "\n",
              "      async function convertToInteractive(key) {\n",
              "        const element = document.querySelector('#df-a57074e4-af08-4825-9b2f-fd3c0e0645df');\n",
              "        const dataTable =\n",
              "          await google.colab.kernel.invokeFunction('convertToInteractive',\n",
              "                                                    [key], {});\n",
              "        if (!dataTable) return;\n",
              "\n",
              "        const docLinkHtml = 'Like what you see? Visit the ' +\n",
              "          '<a target=\"_blank\" href=https://colab.research.google.com/notebooks/data_table.ipynb>data table notebook</a>'\n",
              "          + ' to learn more about interactive tables.';\n",
              "        element.innerHTML = '';\n",
              "        dataTable['output_type'] = 'display_data';\n",
              "        await google.colab.output.renderOutput(dataTable, element);\n",
              "        const docLink = document.createElement('div');\n",
              "        docLink.innerHTML = docLinkHtml;\n",
              "        element.appendChild(docLink);\n",
              "      }\n",
              "    </script>\n",
              "  </div>\n",
              "\n",
              "\n",
              "<div id=\"df-476bc03a-6c11-498e-a780-c47e88b71912\">\n",
              "  <button class=\"colab-df-quickchart\" onclick=\"quickchart('df-476bc03a-6c11-498e-a780-c47e88b71912')\"\n",
              "            title=\"Suggest charts\"\n",
              "            style=\"display:none;\">\n",
              "\n",
              "<svg xmlns=\"http://www.w3.org/2000/svg\" height=\"24px\"viewBox=\"0 0 24 24\"\n",
              "     width=\"24px\">\n",
              "    <g>\n",
              "        <path d=\"M19 3H5c-1.1 0-2 .9-2 2v14c0 1.1.9 2 2 2h14c1.1 0 2-.9 2-2V5c0-1.1-.9-2-2-2zM9 17H7v-7h2v7zm4 0h-2V7h2v10zm4 0h-2v-4h2v4z\"/>\n",
              "    </g>\n",
              "</svg>\n",
              "  </button>\n",
              "\n",
              "<style>\n",
              "  .colab-df-quickchart {\n",
              "      --bg-color: #E8F0FE;\n",
              "      --fill-color: #1967D2;\n",
              "      --hover-bg-color: #E2EBFA;\n",
              "      --hover-fill-color: #174EA6;\n",
              "      --disabled-fill-color: #AAA;\n",
              "      --disabled-bg-color: #DDD;\n",
              "  }\n",
              "\n",
              "  [theme=dark] .colab-df-quickchart {\n",
              "      --bg-color: #3B4455;\n",
              "      --fill-color: #D2E3FC;\n",
              "      --hover-bg-color: #434B5C;\n",
              "      --hover-fill-color: #FFFFFF;\n",
              "      --disabled-bg-color: #3B4455;\n",
              "      --disabled-fill-color: #666;\n",
              "  }\n",
              "\n",
              "  .colab-df-quickchart {\n",
              "    background-color: var(--bg-color);\n",
              "    border: none;\n",
              "    border-radius: 50%;\n",
              "    cursor: pointer;\n",
              "    display: none;\n",
              "    fill: var(--fill-color);\n",
              "    height: 32px;\n",
              "    padding: 0;\n",
              "    width: 32px;\n",
              "  }\n",
              "\n",
              "  .colab-df-quickchart:hover {\n",
              "    background-color: var(--hover-bg-color);\n",
              "    box-shadow: 0 1px 2px rgba(60, 64, 67, 0.3), 0 1px 3px 1px rgba(60, 64, 67, 0.15);\n",
              "    fill: var(--button-hover-fill-color);\n",
              "  }\n",
              "\n",
              "  .colab-df-quickchart-complete:disabled,\n",
              "  .colab-df-quickchart-complete:disabled:hover {\n",
              "    background-color: var(--disabled-bg-color);\n",
              "    fill: var(--disabled-fill-color);\n",
              "    box-shadow: none;\n",
              "  }\n",
              "\n",
              "  .colab-df-spinner {\n",
              "    border: 2px solid var(--fill-color);\n",
              "    border-color: transparent;\n",
              "    border-bottom-color: var(--fill-color);\n",
              "    animation:\n",
              "      spin 1s steps(1) infinite;\n",
              "  }\n",
              "\n",
              "  @keyframes spin {\n",
              "    0% {\n",
              "      border-color: transparent;\n",
              "      border-bottom-color: var(--fill-color);\n",
              "      border-left-color: var(--fill-color);\n",
              "    }\n",
              "    20% {\n",
              "      border-color: transparent;\n",
              "      border-left-color: var(--fill-color);\n",
              "      border-top-color: var(--fill-color);\n",
              "    }\n",
              "    30% {\n",
              "      border-color: transparent;\n",
              "      border-left-color: var(--fill-color);\n",
              "      border-top-color: var(--fill-color);\n",
              "      border-right-color: var(--fill-color);\n",
              "    }\n",
              "    40% {\n",
              "      border-color: transparent;\n",
              "      border-right-color: var(--fill-color);\n",
              "      border-top-color: var(--fill-color);\n",
              "    }\n",
              "    60% {\n",
              "      border-color: transparent;\n",
              "      border-right-color: var(--fill-color);\n",
              "    }\n",
              "    80% {\n",
              "      border-color: transparent;\n",
              "      border-right-color: var(--fill-color);\n",
              "      border-bottom-color: var(--fill-color);\n",
              "    }\n",
              "    90% {\n",
              "      border-color: transparent;\n",
              "      border-bottom-color: var(--fill-color);\n",
              "    }\n",
              "  }\n",
              "</style>\n",
              "\n",
              "  <script>\n",
              "    async function quickchart(key) {\n",
              "      const quickchartButtonEl =\n",
              "        document.querySelector('#' + key + ' button');\n",
              "      quickchartButtonEl.disabled = true;  // To prevent multiple clicks.\n",
              "      quickchartButtonEl.classList.add('colab-df-spinner');\n",
              "      try {\n",
              "        const charts = await google.colab.kernel.invokeFunction(\n",
              "            'suggestCharts', [key], {});\n",
              "      } catch (error) {\n",
              "        console.error('Error during call to suggestCharts:', error);\n",
              "      }\n",
              "      quickchartButtonEl.classList.remove('colab-df-spinner');\n",
              "      quickchartButtonEl.classList.add('colab-df-quickchart-complete');\n",
              "    }\n",
              "    (() => {\n",
              "      let quickchartButtonEl =\n",
              "        document.querySelector('#df-476bc03a-6c11-498e-a780-c47e88b71912 button');\n",
              "      quickchartButtonEl.style.display =\n",
              "        google.colab.kernel.accessAllowed ? 'block' : 'none';\n",
              "    })();\n",
              "  </script>\n",
              "</div>\n",
              "\n",
              "    </div>\n",
              "  </div>\n"
            ],
            "text/plain": [
              "         Order ID  Order Date   Ship Date       Ship Mode Customer ID  \\\n",
              "0  CA-2019-103800  2019-01-03  2019-01-07  Standard Class    DP-13000   \n",
              "1  CA-2019-112326  2019-01-04  2019-01-08  Standard Class    PO-19195   \n",
              "2  CA-2019-112326  2019-01-04  2019-01-08  Standard Class    PO-19195   \n",
              "3  CA-2019-112326  2019-01-04  2019-01-08  Standard Class    PO-19195   \n",
              "4  CA-2019-141817  2019-01-05  2019-01-12  Standard Class    MB-18085   \n",
              "\n",
              "   Customer Name      Segment        Country          City         State  \\\n",
              "0  Darren Powers     Consumer  United States       Houston         Texas   \n",
              "1  Phillina Ober  Home Office  United States    Naperville      Illinois   \n",
              "2  Phillina Ober  Home Office  United States    Naperville      Illinois   \n",
              "3  Phillina Ober  Home Office  United States    Naperville      Illinois   \n",
              "4     Mick Brown     Consumer  United States  Philadelphia  Pennsylvania   \n",
              "\n",
              "   Postal Code   Region       Product ID         Category Sub-Category  \\\n",
              "0        77095  Central  OFF-PA-10000174  Office Supplies        Paper   \n",
              "1        60540  Central  OFF-LA-10003223  Office Supplies       Labels   \n",
              "2        60540  Central  OFF-ST-10002743  Office Supplies      Storage   \n",
              "3        60540  Central  OFF-BI-10004094  Office Supplies      Binders   \n",
              "4        19143     East  OFF-AR-10003478  Office Supplies          Art   \n",
              "\n",
              "                                        Product Name    Sales  Quantity  \\\n",
              "0  Message Book, Wirebound, Four 5 1/2\" X 4\" Form...   16.448         2   \n",
              "1                                          Avery 508   11.784         3   \n",
              "2                      SAFCO Boltless Steel Shelving  272.736         3   \n",
              "3         GBC Standard Plastic Binding Systems Combs    3.540         2   \n",
              "4  Avery Hi-Liter EverBold Pen Style Fluorescent ...   19.536         3   \n",
              "\n",
              "   Discount   Profit  \n",
              "0       0.2   5.5512  \n",
              "1       0.2   4.2717  \n",
              "2       0.2 -64.7748  \n",
              "3       0.8  -5.4870  \n",
              "4       0.2   4.8840  "
            ]
          },
          "execution_count": 3,
          "metadata": {},
          "output_type": "execute_result"
        }
      ],
      "source": [
        "df.head()"
      ]
    },
    {
      "cell_type": "code",
      "execution_count": null,
      "metadata": {
        "colab": {
          "base_uri": "https://localhost:8080/"
        },
        "id": "jXPsekE74hlj",
        "outputId": "d415625a-057d-4f37-8295-3db2cc3a62a5"
      },
      "outputs": [
        {
          "name": "stdout",
          "output_type": "stream",
          "text": [
            "<class 'pandas.core.frame.DataFrame'>\n",
            "RangeIndex: 9994 entries, 0 to 9993\n",
            "Data columns (total 20 columns):\n",
            " #   Column         Non-Null Count  Dtype  \n",
            "---  ------         --------------  -----  \n",
            " 0   Order ID       9994 non-null   object \n",
            " 1   Order Date     9994 non-null   object \n",
            " 2   Ship Date      9994 non-null   object \n",
            " 3   Ship Mode      9994 non-null   object \n",
            " 4   Customer ID    9994 non-null   object \n",
            " 5   Customer Name  9994 non-null   object \n",
            " 6   Segment        9994 non-null   object \n",
            " 7   Country        9994 non-null   object \n",
            " 8   City           9994 non-null   object \n",
            " 9   State          9994 non-null   object \n",
            " 10  Postal Code    9994 non-null   int64  \n",
            " 11  Region         9994 non-null   object \n",
            " 12  Product ID     9994 non-null   object \n",
            " 13  Category       9994 non-null   object \n",
            " 14  Sub-Category   9994 non-null   object \n",
            " 15  Product Name   9994 non-null   object \n",
            " 16  Sales          9994 non-null   float64\n",
            " 17  Quantity       9994 non-null   int64  \n",
            " 18  Discount       9994 non-null   float64\n",
            " 19  Profit         9994 non-null   float64\n",
            "dtypes: float64(3), int64(2), object(15)\n",
            "memory usage: 1.5+ MB\n"
          ]
        }
      ],
      "source": [
        "df.info()"
      ]
    },
    {
      "cell_type": "code",
      "execution_count": 4,
      "metadata": {
        "colab": {
          "base_uri": "https://localhost:8080/"
        },
        "id": "bJWHR0t15ZGr",
        "outputId": "e8e5e806-ea32-4857-a371-8e31023c1807"
      },
      "outputs": [
        {
          "output_type": "stream",
          "name": "stdout",
          "text": [
            "1\n",
            "no duplicate found\n"
          ]
        }
      ],
      "source": [
        "print(df.duplicated().sum())\n",
        "df.drop_duplicates(inplace=True)\n",
        "if df.duplicated().sum() > 0:\n",
        "  print(\"duplicate data found\")\n",
        "else :\n",
        "    print(\"no duplicate found\")\n",
        "\n",
        "types_of_customer= df[\"Segment\"].unique()\n"
      ]
    },
    {
      "cell_type": "code",
      "execution_count": 5,
      "metadata": {
        "colab": {
          "base_uri": "https://localhost:8080/",
          "height": 649
        },
        "id": "HqwQ3kwl6_Eo",
        "outputId": "fe6ff075-34fd-4f0b-8ce8-a86c7a6ff9ae"
      },
      "outputs": [
        {
          "output_type": "stream",
          "name": "stdout",
          "text": [
            "['Consumer' 'Home Office' 'Corporate']\n",
            "  Types of Customer  count\n",
            "0          Consumer   5191\n",
            "1         Corporate   3020\n",
            "2       Home Office   1782\n"
          ]
        },
        {
          "output_type": "execute_result",
          "data": {
            "text/plain": [
              "([<matplotlib.patches.Wedge at 0x79365c954160>,\n",
              "  <matplotlib.patches.Wedge at 0x79365c956f50>,\n",
              "  <matplotlib.patches.Wedge at 0x79365c8a1b40>],\n",
              " [Text(-0.06721946235722807, 1.0979442353236368, 'Consumer'),\n",
              "  Text(-0.5264771818811045, -0.9658269912145397, 'Corporate'),\n",
              "  Text(0.9318496673774695, -0.5845136417642446, 'Home Office')],\n",
              " [Text(-0.036665161285760764, 0.5988786738128927, '51.9%'),\n",
              "  Text(-0.28716937193514785, -0.526814722480658, '30.2%'),\n",
              "  Text(0.508281636751347, -0.318825622780497, '17.8%')])"
            ]
          },
          "metadata": {},
          "execution_count": 5
        },
        {
          "output_type": "display_data",
          "data": {
            "text/plain": [
              "<Figure size 640x480 with 1 Axes>"
            ],
            "image/png": "[encoded data removed]"
          },
          "metadata": {}
        }
      ],
      "source": [
        "print(types_of_customer)\n",
        "number_of_customer=df[\"Segment\"].value_counts().reset_index()\n",
        "number_of_customer=number_of_customer.rename(columns={\"Segment\":\"Types of Customer\"})\n",
        "print(number_of_customer)\n",
        "plt.pie(number_of_customer['count'],labels=number_of_customer[\"Types of Customer\"],autopct=\"%1.1f%%\")"
      ]
    },
    {
      "cell_type": "code",
      "execution_count": null,
      "metadata": {
        "colab": {
          "base_uri": "https://localhost:8080/"
        },
        "id": "TS5PmEJX-JMu",
        "outputId": "bcd888fb-1584-4b5f-c7d9-33a58af9ef88"
      },
      "outputs": [
        {
          "name": "stdout",
          "output_type": "stream",
          "text": [
            "  Type of Customer   Total Sales\n",
            "0         Consumer  1.161401e+06\n",
            "1        Corporate  7.061464e+05\n",
            "2      Home Office  4.293718e+05\n"
          ]
        }
      ],
      "source": [
        "sales_per_segment=df.groupby(\"Segment\")[\"Sales\"].sum().reset_index()\n",
        "sales_per_segment=sales_per_segment.rename(columns={\"Segment\":\"Type of Customer\",\"Sales\":\"Total Sales\"})\n",
        "print(sales_per_segment)"
      ]
    },
    {
      "cell_type": "code",
      "execution_count": null,
      "metadata": {
        "colab": {
          "base_uri": "https://localhost:8080/",
          "height": 489
        },
        "id": "3bBSkPPO_3cI",
        "outputId": "4c2422a5-14b7-4406-99a8-ebf3d0a6b938"
      },
      "outputs": [
        {
          "data": {
            "text/plain": [
              "Text(0.5, 1.0, 'Sales per Customer')"
            ]
          },
          "execution_count": 8,
          "metadata": {},
          "output_type": "execute_result"
        },
        {
          "data": {
            "image/png": "[encoded data removed]",
            "text/plain": [
              "<Figure size 640x480 with 1 Axes>"
            ]
          },
          "metadata": {},
          "output_type": "display_data"
        }
      ],
      "source": [
        "plt.bar(sales_per_segment[\"Type of Customer\"],sales_per_segment[\"Total Sales\"])\n",
        "plt.xlabel(\"Type of Customer\")\n",
        "plt.ylabel(\"Total Sales\")\n",
        "plt.title(\"Sales per Customer\")"
      ]
    },
    {
      "cell_type": "code",
      "execution_count": null,
      "metadata": {
        "colab": {
          "base_uri": "https://localhost:8080/",
          "height": 271
        },
        "id": "K0AEoRGZF-Iu",
        "outputId": "af3fca4a-6669-4795-a56f-19a4d8feba89"
      },
      "outputs": [
        {
          "data": {
            "application/vnd.google.colaboratory.intrinsic+json": {
              "summary": "{\n  \"name\": \"df\",\n  \"rows\": 9993,\n  \"fields\": [\n    {\n      \"column\": \"Order ID\",\n      \"properties\": {\n        \"dtype\": \"string\",\n        \"num_unique_values\": 5009,\n        \"samples\": [\n          \"CA-2021-136329\",\n          \"CA-2022-166499\",\n          \"US-2022-116652\"\n        ],\n        \"semantic_type\": \"\",\n        \"description\": \"\"\n      }\n    },\n    {\n      \"column\": \"Order Date\",\n      \"properties\": {\n        \"dtype\": \"object\",\n        \"num_unique_values\": 1237,\n        \"samples\": [\n          \"2021-01-29\",\n          \"2019-08-09\",\n          \"2021-11-13\"\n        ],\n        \"semantic_type\": \"\",\n        \"description\": \"\"\n      }\n    },\n    {\n      \"column\": \"Ship Date\",\n      \"properties\": {\n        \"dtype\": \"object\",\n        \"num_unique_values\": 1332,\n        \"samples\": [\n          \"2022-11-13\",\n          \"2022-04-02\",\n          \"2022-10-14\"\n        ],\n        \"semantic_type\": \"\",\n        \"description\": \"\"\n      }\n    },\n    {\n      \"column\": \"Ship Mode\",\n      \"properties\": {\n        \"dtype\": \"category\",\n        \"num_unique_values\": 4,\n        \"samples\": [\n          \"First Class\",\n          \"Same Day\",\n          \"Standard Class\"\n        ],\n        \"semantic_type\": \"\",\n        \"description\": \"\"\n      }\n    },\n    {\n      \"column\": \"Customer ID\",\n      \"properties\": {\n        \"dtype\": \"category\",\n        \"num_unique_values\": 793,\n        \"samples\": [\n          \"PJ-19015\",\n          \"PG-18895\",\n          \"JG-15310\"\n        ],\n        \"semantic_type\": \"\",\n        \"description\": \"\"\n      }\n    },\n    {\n      \"column\": \"Customer Name\",\n      \"properties\": {\n        \"dtype\": \"category\",\n        \"num_unique_values\": 793,\n        \"samples\": [\n          \"Pauline Johnson\",\n          \"Paul Gonzalez\",\n          \"Jason Gross\"\n        ],\n        \"semantic_type\": \"\",\n        \"description\": \"\"\n      }\n    },\n    {\n      \"column\": \"Segment\",\n      \"properties\": {\n        \"dtype\": \"category\",\n        \"num_unique_values\": 3,\n        \"samples\": [\n          \"Consumer\",\n          \"Home Office\",\n          \"Corporate\"\n        ],\n        \"semantic_type\": \"\",\n        \"description\": \"\"\n      }\n    },\n    {\n      \"column\": \"Country\",\n      \"properties\": {\n        \"dtype\": \"category\",\n        \"num_unique_values\": 1,\n        \"samples\": [\n          \"United States\"\n        ],\n        \"semantic_type\": \"\",\n        \"description\": \"\"\n      }\n    },\n    {\n      \"column\": \"City\",\n      \"properties\": {\n        \"dtype\": \"category\",\n        \"num_unique_values\": 531,\n        \"samples\": [\n          \"Elyria\"\n        ],\n        \"semantic_type\": \"\",\n        \"description\": \"\"\n      }\n    },\n    {\n      \"column\": \"State\",\n      \"properties\": {\n        \"dtype\": \"category\",\n        \"num_unique_values\": 49,\n        \"samples\": [\n          \"Michigan\"\n        ],\n        \"semantic_type\": \"\",\n        \"description\": \"\"\n      }\n    },\n    {\n      \"column\": \"Postal Code\",\n      \"properties\": {\n        \"dtype\": \"number\",\n        \"std\": 32065,\n        \"min\": 1040,\n        \"max\": 99301,\n        \"num_unique_values\": 631,\n        \"samples\": [\n          80112\n        ],\n        \"semantic_type\": \"\",\n        \"description\": \"\"\n      }\n    },\n    {\n      \"column\": \"Region\",\n      \"properties\": {\n        \"dtype\": \"category\",\n        \"num_unique_values\": 4,\n        \"samples\": [\n          \"East\"\n        ],\n        \"semantic_type\": \"\",\n        \"description\": \"\"\n      }\n    },\n    {\n      \"column\": \"Product ID\",\n      \"properties\": {\n        \"dtype\": \"category\",\n        \"num_unique_values\": 1862,\n        \"samples\": [\n          \"FUR-TA-10000198\"\n        ],\n        \"semantic_type\": \"\",\n        \"description\": \"\"\n      }\n    },\n    {\n      \"column\": \"Category\",\n      \"properties\": {\n        \"dtype\": \"category\",\n        \"num_unique_values\": 3,\n        \"samples\": [\n          \"Office Supplies\"\n        ],\n        \"semantic_type\": \"\",\n        \"description\": \"\"\n      }\n    },\n    {\n      \"column\": \"Sub-Category\",\n      \"properties\": {\n        \"dtype\": \"category\",\n        \"num_unique_values\": 17,\n        \"samples\": [\n          \"Paper\"\n        ],\n        \"semantic_type\": \"\",\n        \"description\": \"\"\n      }\n    },\n    {\n      \"column\": \"Product Name\",\n      \"properties\": {\n        \"dtype\": \"category\",\n        \"num_unique_values\": 1850,\n        \"samples\": [\n          \"Bush Advantage Collection Racetrack Conference Table\"\n        ],\n        \"semantic_type\": \"\",\n        \"description\": \"\"\n      }\n    },\n    {\n      \"column\": \"Sales\",\n      \"properties\": {\n        \"dtype\": \"number\",\n        \"std\": 623.2760738589195,\n        \"min\": 0.444,\n        \"max\": 22638.48,\n        \"num_unique_values\": 5825,\n        \"samples\": [\n          50.784\n        ],\n        \"semantic_type\": \"\",\n        \"description\": \"\"\n      }\n    },\n    {\n      \"column\": \"Quantity\",\n      \"properties\": {\n        \"dtype\": \"number\",\n        \"std\": 2,\n        \"min\": 1,\n        \"max\": 14,\n        \"num_unique_values\": 14,\n        \"samples\": [\n          13\n        ],\n        \"semantic_type\": \"\",\n        \"description\": \"\"\n      }\n    },\n    {\n      \"column\": \"Discount\",\n      \"properties\": {\n        \"dtype\": \"number\",\n        \"std\": 0.2064572862477515,\n        \"min\": 0.0,\n        \"max\": 0.8,\n        \"num_unique_values\": 12,\n        \"samples\": [\n          0.32\n        ],\n        \"semantic_type\": \"\",\n        \"description\": \"\"\n      }\n    },\n    {\n      \"column\": \"Profit\",\n      \"properties\": {\n        \"dtype\": \"number\",\n        \"std\": 234.27147564908628,\n        \"min\": -6599.978,\n        \"max\": 8399.976,\n        \"num_unique_values\": 7287,\n        \"samples\": [\n          5.3352\n        ],\n        \"semantic_type\": \"\",\n        \"description\": \"\"\n      }\n    }\n  ]\n}",
              "type": "dataframe",
              "variable_name": "df"
            },
            "text/html": [
              "\n",
              "  <div id=\"df-fae3653f-1502-46ce-991f-e1a3e7964a53\" class=\"colab-df-container\">\n",
              "    <div>\n",
              "<style scoped>\n",
              "    .dataframe tbody tr th:only-of-type {\n",
              "        vertical-align: middle;\n",
              "    }\n",
              "\n",
              "    .dataframe tbody tr th {\n",
              "        vertical-align: top;\n",
              "    }\n",
              "\n",
              "    .dataframe thead th {\n",
              "        text-align: right;\n",
              "    }\n",
              "</style>\n",
              "<table border=\"1\" class=\"dataframe\">\n",
              "  <thead>\n",
              "    <tr style=\"text-align: right;\">\n",
              "      <th></th>\n",
              "      <th>Order ID</th>\n",
              "      <th>Order Date</th>\n",
              "      <th>Ship Date</th>\n",
              "      <th>Ship Mode</th>\n",
              "      <th>Customer ID</th>\n",
              "      <th>Customer Name</th>\n",
              "      <th>Segment</th>\n",
              "      <th>Country</th>\n",
              "      <th>City</th>\n",
              "      <th>State</th>\n",
              "      <th>Postal Code</th>\n",
              "      <th>Region</th>\n",
              "      <th>Product ID</th>\n",
              "      <th>Category</th>\n",
              "      <th>Sub-Category</th>\n",
              "      <th>Product Name</th>\n",
              "      <th>Sales</th>\n",
              "      <th>Quantity</th>\n",
              "      <th>Discount</th>\n",
              "      <th>Profit</th>\n",
              "    </tr>\n",
              "  </thead>\n",
              "  <tbody>\n",
              "    <tr>\n",
              "      <th>0</th>\n",
              "      <td>CA-2019-103800</td>\n",
              "      <td>2019-01-03</td>\n",
              "      <td>2019-01-07</td>\n",
              "      <td>Standard Class</td>\n",
              "      <td>DP-13000</td>\n",
              "      <td>Darren Powers</td>\n",
              "      <td>Consumer</td>\n",
              "      <td>United States</td>\n",
              "      <td>Houston</td>\n",
              "      <td>Texas</td>\n",
              "      <td>77095</td>\n",
              "      <td>Central</td>\n",
              "      <td>OFF-PA-10000174</td>\n",
              "      <td>Office Supplies</td>\n",
              "      <td>Paper</td>\n",
              "      <td>Message Book, Wirebound, Four 5 1/2\" X 4\" Form...</td>\n",
              "      <td>16.448</td>\n",
              "      <td>2</td>\n",
              "      <td>0.2</td>\n",
              "      <td>5.5512</td>\n",
              "    </tr>\n",
              "    <tr>\n",
              "      <th>1</th>\n",
              "      <td>CA-2019-112326</td>\n",
              "      <td>2019-01-04</td>\n",
              "      <td>2019-01-08</td>\n",
              "      <td>Standard Class</td>\n",
              "      <td>PO-19195</td>\n",
              "      <td>Phillina Ober</td>\n",
              "      <td>Home Office</td>\n",
              "      <td>United States</td>\n",
              "      <td>Naperville</td>\n",
              "      <td>Illinois</td>\n",
              "      <td>60540</td>\n",
              "      <td>Central</td>\n",
              "      <td>OFF-LA-10003223</td>\n",
              "      <td>Office Supplies</td>\n",
              "      <td>Labels</td>\n",
              "      <td>Avery 508</td>\n",
              "      <td>11.784</td>\n",
              "      <td>3</td>\n",
              "      <td>0.2</td>\n",
              "      <td>4.2717</td>\n",
              "    </tr>\n",
              "  </tbody>\n",
              "</table>\n",
              "</div>\n",
              "    <div class=\"colab-df-buttons\">\n",
              "\n",
              "  <div class=\"colab-df-container\">\n",
              "    <button class=\"colab-df-convert\" onclick=\"convertToInteractive('df-fae3653f-1502-46ce-991f-e1a3e7964a53')\"\n",
              "            title=\"Convert this dataframe to an interactive table.\"\n",
              "            style=\"display:none;\">\n",
              "\n",
              "  <svg xmlns=\"http://www.w3.org/2000/svg\" height=\"24px\" viewBox=\"0 -960 960 960\">\n",
              "    <path d=\"M120-120v-720h720v720H120Zm60-500h600v-160H180v160Zm220 220h160v-160H400v160Zm0 220h160v-160H400v160ZM180-400h160v-160H180v160Zm440 0h160v-160H620v160ZM180-180h160v-160H180v160Zm440 0h160v-160H620v160Z\"/>\n",
              "  </svg>\n",
              "    </button>\n",
              "\n",
              "  <style>\n",
              "    .colab-df-container {\n",
              "      display:flex;\n",
              "      gap: 12px;\n",
              "    }\n",
              "\n",
              "    .colab-df-convert {\n",
              "      background-color: #E8F0FE;\n",
              "      border: none;\n",
              "      border-radius: 50%;\n",
              "      cursor: pointer;\n",
              "      display: none;\n",
              "      fill: #1967D2;\n",
              "      height: 32px;\n",
              "      padding: 0 0 0 0;\n",
              "      width: 32px;\n",
              "    }\n",
              "\n",
              "    .colab-df-convert:hover {\n",
              "      background-color: #E2EBFA;\n",
              "      box-shadow: 0px 1px 2px rgba(60, 64, 67, 0.3), 0px 1px 3px 1px rgba(60, 64, 67, 0.15);\n",
              "      fill: #174EA6;\n",
              "    }\n",
              "\n",
              "    .colab-df-buttons div {\n",
              "      margin-bottom: 4px;\n",
              "    }\n",
              "\n",
              "    [theme=dark] .colab-df-convert {\n",
              "      background-color: #3B4455;\n",
              "      fill: #D2E3FC;\n",
              "    }\n",
              "\n",
              "    [theme=dark] .colab-df-convert:hover {\n",
              "      background-color: #434B5C;\n",
              "      box-shadow: 0px 1px 3px 1px rgba(0, 0, 0, 0.15);\n",
              "      filter: drop-shadow(0px 1px 2px rgba(0, 0, 0, 0.3));\n",
              "      fill: #FFFFFF;\n",
              "    }\n",
              "  </style>\n",
              "\n",
              "    <script>\n",
              "      const buttonEl =\n",
              "        document.querySelector('#df-fae3653f-1502-46ce-991f-e1a3e7964a53 button.colab-df-convert');\n",
              "      buttonEl.style.display =\n",
              "        google.colab.kernel.accessAllowed ? 'block' : 'none';\n",
              "\n",
              "      async function convertToInteractive(key) {\n",
              "        const element = document.querySelector('#df-fae3653f-1502-46ce-991f-e1a3e7964a53');\n",
              "        const dataTable =\n",
              "          await google.colab.kernel.invokeFunction('convertToInteractive',\n",
              "                                                    [key], {});\n",
              "        if (!dataTable) return;\n",
              "\n",
              "        const docLinkHtml = 'Like what you see? Visit the ' +\n",
              "          '<a target=\"_blank\" href=https://colab.research.google.com/notebooks/data_table.ipynb>data table notebook</a>'\n",
              "          + ' to learn more about interactive tables.';\n",
              "        element.innerHTML = '';\n",
              "        dataTable['output_type'] = 'display_data';\n",
              "        await google.colab.output.renderOutput(dataTable, element);\n",
              "        const docLink = document.createElement('div');\n",
              "        docLink.innerHTML = docLinkHtml;\n",
              "        element.appendChild(docLink);\n",
              "      }\n",
              "    </script>\n",
              "  </div>\n",
              "\n",
              "\n",
              "<div id=\"df-52b07511-c1c3-447c-8345-016111c45aa4\">\n",
              "  <button class=\"colab-df-quickchart\" onclick=\"quickchart('df-52b07511-c1c3-447c-8345-016111c45aa4')\"\n",
              "            title=\"Suggest charts\"\n",
              "            style=\"display:none;\">\n",
              "\n",
              "<svg xmlns=\"http://www.w3.org/2000/svg\" height=\"24px\"viewBox=\"0 0 24 24\"\n",
              "     width=\"24px\">\n",
              "    <g>\n",
              "        <path d=\"M19 3H5c-1.1 0-2 .9-2 2v14c0 1.1.9 2 2 2h14c1.1 0 2-.9 2-2V5c0-1.1-.9-2-2-2zM9 17H7v-7h2v7zm4 0h-2V7h2v10zm4 0h-2v-4h2v4z\"/>\n",
              "    </g>\n",
              "</svg>\n",
              "  </button>\n",
              "\n",
              "<style>\n",
              "  .colab-df-quickchart {\n",
              "      --bg-color: #E8F0FE;\n",
              "      --fill-color: #1967D2;\n",
              "      --hover-bg-color: #E2EBFA;\n",
              "      --hover-fill-color: #174EA6;\n",
              "      --disabled-fill-color: #AAA;\n",
              "      --disabled-bg-color: #DDD;\n",
              "  }\n",
              "\n",
              "  [theme=dark] .colab-df-quickchart {\n",
              "      --bg-color: #3B4455;\n",
              "      --fill-color: #D2E3FC;\n",
              "      --hover-bg-color: #434B5C;\n",
              "      --hover-fill-color: #FFFFFF;\n",
              "      --disabled-bg-color: #3B4455;\n",
              "      --disabled-fill-color: #666;\n",
              "  }\n",
              "\n",
              "  .colab-df-quickchart {\n",
              "    background-color: var(--bg-color);\n",
              "    border: none;\n",
              "    border-radius: 50%;\n",
              "    cursor: pointer;\n",
              "    display: none;\n",
              "    fill: var(--fill-color);\n",
              "    height: 32px;\n",
              "    padding: 0;\n",
              "    width: 32px;\n",
              "  }\n",
              "\n",
              "  .colab-df-quickchart:hover {\n",
              "    background-color: var(--hover-bg-color);\n",
              "    box-shadow: 0 1px 2px rgba(60, 64, 67, 0.3), 0 1px 3px 1px rgba(60, 64, 67, 0.15);\n",
              "    fill: var(--button-hover-fill-color);\n",
              "  }\n",
              "\n",
              "  .colab-df-quickchart-complete:disabled,\n",
              "  .colab-df-quickchart-complete:disabled:hover {\n",
              "    background-color: var(--disabled-bg-color);\n",
              "    fill: var(--disabled-fill-color);\n",
              "    box-shadow: none;\n",
              "  }\n",
              "\n",
              "  .colab-df-spinner {\n",
              "    border: 2px solid var(--fill-color);\n",
              "    border-color: transparent;\n",
              "    border-bottom-color: var(--fill-color);\n",
              "    animation:\n",
              "      spin 1s steps(1) infinite;\n",
              "  }\n",
              "\n",
              "  @keyframes spin {\n",
              "    0% {\n",
              "      border-color: transparent;\n",
              "      border-bottom-color: var(--fill-color);\n",
              "      border-left-color: var(--fill-color);\n",
              "    }\n",
              "    20% {\n",
              "      border-color: transparent;\n",
              "      border-left-color: var(--fill-color);\n",
              "      border-top-color: var(--fill-color);\n",
              "    }\n",
              "    30% {\n",
              "      border-color: transparent;\n",
              "      border-left-color: var(--fill-color);\n",
              "      border-top-color: var(--fill-color);\n",
              "      border-right-color: var(--fill-color);\n",
              "    }\n",
              "    40% {\n",
              "      border-color: transparent;\n",
              "      border-right-color: var(--fill-color);\n",
              "      border-top-color: var(--fill-color);\n",
              "    }\n",
              "    60% {\n",
              "      border-color: transparent;\n",
              "      border-right-color: var(--fill-color);\n",
              "    }\n",
              "    80% {\n",
              "      border-color: transparent;\n",
              "      border-right-color: var(--fill-color);\n",
              "      border-bottom-color: var(--fill-color);\n",
              "    }\n",
              "    90% {\n",
              "      border-color: transparent;\n",
              "      border-bottom-color: var(--fill-color);\n",
              "    }\n",
              "  }\n",
              "</style>\n",
              "\n",
              "  <script>\n",
              "    async function quickchart(key) {\n",
              "      const quickchartButtonEl =\n",
              "        document.querySelector('#' + key + ' button');\n",
              "      quickchartButtonEl.disabled = true;  // To prevent multiple clicks.\n",
              "      quickchartButtonEl.classList.add('colab-df-spinner');\n",
              "      try {\n",
              "        const charts = await google.colab.kernel.invokeFunction(\n",
              "            'suggestCharts', [key], {});\n",
              "      } catch (error) {\n",
              "        console.error('Error during call to suggestCharts:', error);\n",
              "      }\n",
              "      quickchartButtonEl.classList.remove('colab-df-spinner');\n",
              "      quickchartButtonEl.classList.add('colab-df-quickchart-complete');\n",
              "    }\n",
              "    (() => {\n",
              "      let quickchartButtonEl =\n",
              "        document.querySelector('#df-52b07511-c1c3-447c-8345-016111c45aa4 button');\n",
              "      quickchartButtonEl.style.display =\n",
              "        google.colab.kernel.accessAllowed ? 'block' : 'none';\n",
              "    })();\n",
              "  </script>\n",
              "</div>\n",
              "\n",
              "    </div>\n",
              "  </div>\n"
            ],
            "text/plain": [
              "         Order ID  Order Date   Ship Date       Ship Mode Customer ID  \\\n",
              "0  CA-2019-103800  2019-01-03  2019-01-07  Standard Class    DP-13000   \n",
              "1  CA-2019-112326  2019-01-04  2019-01-08  Standard Class    PO-19195   \n",
              "\n",
              "   Customer Name      Segment        Country        City     State  \\\n",
              "0  Darren Powers     Consumer  United States     Houston     Texas   \n",
              "1  Phillina Ober  Home Office  United States  Naperville  Illinois   \n",
              "\n",
              "   Postal Code   Region       Product ID         Category Sub-Category  \\\n",
              "0        77095  Central  OFF-PA-10000174  Office Supplies        Paper   \n",
              "1        60540  Central  OFF-LA-10003223  Office Supplies       Labels   \n",
              "\n",
              "                                        Product Name   Sales  Quantity  \\\n",
              "0  Message Book, Wirebound, Four 5 1/2\" X 4\" Form...  16.448         2   \n",
              "1                                          Avery 508  11.784         3   \n",
              "\n",
              "   Discount  Profit  \n",
              "0       0.2  5.5512  \n",
              "1       0.2  4.2717  "
            ]
          },
          "execution_count": 9,
          "metadata": {},
          "output_type": "execute_result"
        }
      ],
      "source": [
        "df.head(2)"
      ]
    },
    {
      "cell_type": "code",
      "execution_count": null,
      "metadata": {
        "colab": {
          "base_uri": "https://localhost:8080/"
        },
        "id": "-_nYg77CB7cT",
        "outputId": "27d070fa-e96a-40ee-a4b0-07f97b440f82"
      },
      "outputs": [
        {
          "name": "stdout",
          "output_type": "stream",
          "text": [
            "   Customer ID        Customer Name      Segment  Total Order\n",
            "0     WB-21850        William Brown     Consumer           37\n",
            "1     MA-17560         Matt Abelman  Home Office           34\n",
            "2     JL-15835             John Lee     Consumer           34\n",
            "3     PP-18955           Paul Prost  Home Office           34\n",
            "4     SV-20365          Seth Vernon     Consumer           32\n",
            "5     JD-15895     Jonathan Doherty    Corporate           32\n",
            "6     CK-12205  Chloris Kastensmidt     Consumer           32\n",
            "7     EH-13765         Edward Hooks    Corporate           32\n",
            "8     EP-13915           Emily Phan     Consumer           31\n",
            "9     ZC-21910     Zuschuss Carroll     Consumer           31\n",
            "10    AP-10915       Arthur Prichep     Consumer           31\n",
            "11    LC-16870        Lena Cacioppo     Consumer           30\n"
          ]
        }
      ],
      "source": [
        "\n",
        "customer_order_frequency= df.groupby([\"Customer ID\",\"Customer Name\",\"Segment\"])[\"Order ID\"].count().reset_index()\n",
        "customer_order_frequency=customer_order_frequency.rename(columns={\"Order ID\":\"Total Order\"})\n",
        "customer_repeat=customer_order_frequency[customer_order_frequency[\"Total Order\"]>1]\n",
        "repeat_customer_sorted=customer_repeat.sort_values(by=\"Total Order\",ascending=False)\n",
        "print(repeat_customer_sorted.head(12).reset_index(drop=True))"
      ]
    },
    {
      "cell_type": "code",
      "execution_count": null,
      "metadata": {
        "colab": {
          "base_uri": "https://localhost:8080/"
        },
        "id": "Wp1-mjpO4Cef",
        "outputId": "67144897-e9ad-4ff7-b6ee-ef2a2f664c07"
      },
      "outputs": [
        {
          "name": "stdout",
          "output_type": "stream",
          "text": [
            "  Customer ID  Customer Name      Segment      Sales\n",
            "0    SM-20320    Sean Miller  Home Office  25043.050\n",
            "1    TC-20980   Tamara Chand    Corporate  19052.218\n",
            "2    RB-19360   Raymond Buch     Consumer  15117.339\n",
            "3    TA-21385   Tom Ashbrook  Home Office  14595.620\n",
            "4    AB-10105  Adrian Barton     Consumer  14473.571\n"
          ]
        }
      ],
      "source": [
        "customer_sales=df.groupby(['Customer ID','Customer Name','Segment'])['Sales'].sum().reset_index()\n",
        "top_customer=customer_sales.sort_values(by=\"Sales\",ascending=False)\n",
        "print(top_customer.head().reset_index(drop=True))"
      ]
    },
    {
      "cell_type": "code",
      "execution_count": null,
      "metadata": {
        "colab": {
          "base_uri": "https://localhost:8080/"
        },
        "id": "9UvPxweO6hvp",
        "outputId": "27d8608d-b863-49e4-ee68-9c82dca81aa9"
      },
      "outputs": [
        {
          "name": "stdout",
          "output_type": "stream",
          "text": [
            "        Ship Mode  Total Order\n",
            "3  Standard Class         5967\n",
            "2    Second Class         1945\n",
            "0     First Class         1538\n",
            "1        Same Day          543\n"
          ]
        }
      ],
      "source": [
        "df.head()\n",
        "shipping_method=df.groupby([\"Ship Mode\"])[\"Order ID\"].count().reset_index()\n",
        "shipping_method=shipping_method.rename(columns={\"Order ID\":\"Total Order\"})\n",
        "shipping_method=shipping_method.sort_values(by=\"Total Order\",ascending=False)\n",
        "print(shipping_method)"
      ]
    },
    {
      "cell_type": "code",
      "execution_count": null,
      "metadata": {
        "colab": {
          "base_uri": "https://localhost:8080/"
        },
        "id": "7E9Evg8t8uFt",
        "outputId": "ade8e705-5043-423d-be22-db910d278386"
      },
      "outputs": [
        {
          "name": "stdout",
          "output_type": "stream",
          "text": [
            "        Ship Mode  count\n",
            "0  Standard Class   5967\n",
            "1    Second Class   1945\n",
            "2     First Class   1538\n",
            "3        Same Day    543\n"
          ]
        }
      ],
      "source": [
        "shipping_model=df[\"Ship Mode\"].value_counts().reset_index()\n",
        "shipping_model=shipping_model.rename(columns={\"index\":\"Use Frequency\"})\n",
        "print(shipping_model)"
      ]
    },
    {
      "cell_type": "code",
      "execution_count": null,
      "metadata": {
        "colab": {
          "base_uri": "https://localhost:8080/",
          "height": 614
        },
        "id": "QDPFtgpT9eb7",
        "outputId": "77ed5447-a1b8-4b75-c774-d8e7c47c7ed9"
      },
      "outputs": [
        {
          "data": {
            "text/plain": [
              "([<matplotlib.patches.Wedge at 0x7c7444c7ea10>,\n",
              "  <matplotlib.patches.Wedge at 0x7c7444c7dde0>,\n",
              "  <matplotlib.patches.Wedge at 0x7c7444c19900>,\n",
              "  <matplotlib.patches.Wedge at 0x7c7444c18250>],\n",
              " [Text(-0.33043273482043195, 1.0491969346881882, 'Standard Class'),\n",
              "  Text(-0.3762764767096329, -1.0336421107302978, 'Second Class'),\n",
              "  Text(0.7464679709401436, -0.8079514641118642, 'First Class'),\n",
              "  Text(1.084011181256463, -0.1868682929524631, 'Same Day')],\n",
              " [Text(-0.18023603717478107, 0.5722892371026481, '59.7%'),\n",
              "  Text(-0.20524171456889065, -0.5638047876710715, '19.5%'),\n",
              "  Text(0.40716434778553284, -0.4407007986064714, '15.4%'),\n",
              "  Text(0.5912788261398889, -0.1019281597922526, '5.4%')])"
            ]
          },
          "execution_count": 15,
          "metadata": {},
          "output_type": "execute_result"
        },
        {
          "data": {
            "image/png": "[encoded data removed]",
            "text/plain": [
              "<Figure size 640x480 with 1 Axes>"
            ]
          },
          "metadata": {},
          "output_type": "display_data"
        }
      ],
      "source": [
        "plt.pie(shipping_model[\"count\"],labels=shipping_model[\"Ship Mode\"],autopct=\"%1.1f%%\")"
      ]
    },
    {
      "cell_type": "code",
      "execution_count": null,
      "metadata": {
        "colab": {
          "base_uri": "https://localhost:8080/",
          "height": 271
        },
        "id": "t6yfetuMHNAA",
        "outputId": "61715816-cf48-4f3c-9a8b-f450721f28da"
      },
      "outputs": [
        {
          "data": {
            "application/vnd.google.colaboratory.intrinsic+json": {
              "summary": "{\n  \"name\": \"df\",\n  \"rows\": 9993,\n  \"fields\": [\n    {\n      \"column\": \"Order ID\",\n      \"properties\": {\n        \"dtype\": \"string\",\n        \"num_unique_values\": 5009,\n        \"samples\": [\n          \"CA-2021-136329\",\n          \"CA-2022-166499\",\n          \"US-2022-116652\"\n        ],\n        \"semantic_type\": \"\",\n        \"description\": \"\"\n      }\n    },\n    {\n      \"column\": \"Order Date\",\n      \"properties\": {\n        \"dtype\": \"object\",\n        \"num_unique_values\": 1237,\n        \"samples\": [\n          \"2021-01-29\",\n          \"2019-08-09\",\n          \"2021-11-13\"\n        ],\n        \"semantic_type\": \"\",\n        \"description\": \"\"\n      }\n    },\n    {\n      \"column\": \"Ship Date\",\n      \"properties\": {\n        \"dtype\": \"object\",\n        \"num_unique_values\": 1332,\n        \"samples\": [\n          \"2022-11-13\",\n          \"2022-04-02\",\n          \"2022-10-14\"\n        ],\n        \"semantic_type\": \"\",\n        \"description\": \"\"\n      }\n    },\n    {\n      \"column\": \"Ship Mode\",\n      \"properties\": {\n        \"dtype\": \"category\",\n        \"num_unique_values\": 4,\n        \"samples\": [\n          \"First Class\",\n          \"Same Day\",\n          \"Standard Class\"\n        ],\n        \"semantic_type\": \"\",\n        \"description\": \"\"\n      }\n    },\n    {\n      \"column\": \"Customer ID\",\n      \"properties\": {\n        \"dtype\": \"category\",\n        \"num_unique_values\": 793,\n        \"samples\": [\n          \"PJ-19015\",\n          \"PG-18895\",\n          \"JG-15310\"\n        ],\n        \"semantic_type\": \"\",\n        \"description\": \"\"\n      }\n    },\n    {\n      \"column\": \"Customer Name\",\n      \"properties\": {\n        \"dtype\": \"category\",\n        \"num_unique_values\": 793,\n        \"samples\": [\n          \"Pauline Johnson\",\n          \"Paul Gonzalez\",\n          \"Jason Gross\"\n        ],\n        \"semantic_type\": \"\",\n        \"description\": \"\"\n      }\n    },\n    {\n      \"column\": \"Segment\",\n      \"properties\": {\n        \"dtype\": \"category\",\n        \"num_unique_values\": 3,\n        \"samples\": [\n          \"Consumer\",\n          \"Home Office\",\n          \"Corporate\"\n        ],\n        \"semantic_type\": \"\",\n        \"description\": \"\"\n      }\n    },\n    {\n      \"column\": \"Country\",\n      \"properties\": {\n        \"dtype\": \"category\",\n        \"num_unique_values\": 1,\n        \"samples\": [\n          \"United States\"\n        ],\n        \"semantic_type\": \"\",\n        \"description\": \"\"\n      }\n    },\n    {\n      \"column\": \"City\",\n      \"properties\": {\n        \"dtype\": \"category\",\n        \"num_unique_values\": 531,\n        \"samples\": [\n          \"Elyria\"\n        ],\n        \"semantic_type\": \"\",\n        \"description\": \"\"\n      }\n    },\n    {\n      \"column\": \"State\",\n      \"properties\": {\n        \"dtype\": \"category\",\n        \"num_unique_values\": 49,\n        \"samples\": [\n          \"Michigan\"\n        ],\n        \"semantic_type\": \"\",\n        \"description\": \"\"\n      }\n    },\n    {\n      \"column\": \"Postal Code\",\n      \"properties\": {\n        \"dtype\": \"number\",\n        \"std\": 32065,\n        \"min\": 1040,\n        \"max\": 99301,\n        \"num_unique_values\": 631,\n        \"samples\": [\n          80112\n        ],\n        \"semantic_type\": \"\",\n        \"description\": \"\"\n      }\n    },\n    {\n      \"column\": \"Region\",\n      \"properties\": {\n        \"dtype\": \"category\",\n        \"num_unique_values\": 4,\n        \"samples\": [\n          \"East\"\n        ],\n        \"semantic_type\": \"\",\n        \"description\": \"\"\n      }\n    },\n    {\n      \"column\": \"Product ID\",\n      \"properties\": {\n        \"dtype\": \"category\",\n        \"num_unique_values\": 1862,\n        \"samples\": [\n          \"FUR-TA-10000198\"\n        ],\n        \"semantic_type\": \"\",\n        \"description\": \"\"\n      }\n    },\n    {\n      \"column\": \"Category\",\n      \"properties\": {\n        \"dtype\": \"category\",\n        \"num_unique_values\": 3,\n        \"samples\": [\n          \"Office Supplies\"\n        ],\n        \"semantic_type\": \"\",\n        \"description\": \"\"\n      }\n    },\n    {\n      \"column\": \"Sub-Category\",\n      \"properties\": {\n        \"dtype\": \"category\",\n        \"num_unique_values\": 17,\n        \"samples\": [\n          \"Paper\"\n        ],\n        \"semantic_type\": \"\",\n        \"description\": \"\"\n      }\n    },\n    {\n      \"column\": \"Product Name\",\n      \"properties\": {\n        \"dtype\": \"category\",\n        \"num_unique_values\": 1850,\n        \"samples\": [\n          \"Bush Advantage Collection Racetrack Conference Table\"\n        ],\n        \"semantic_type\": \"\",\n        \"description\": \"\"\n      }\n    },\n    {\n      \"column\": \"Sales\",\n      \"properties\": {\n        \"dtype\": \"number\",\n        \"std\": 623.2760738589195,\n        \"min\": 0.444,\n        \"max\": 22638.48,\n        \"num_unique_values\": 5825,\n        \"samples\": [\n          50.784\n        ],\n        \"semantic_type\": \"\",\n        \"description\": \"\"\n      }\n    },\n    {\n      \"column\": \"Quantity\",\n      \"properties\": {\n        \"dtype\": \"number\",\n        \"std\": 2,\n        \"min\": 1,\n        \"max\": 14,\n        \"num_unique_values\": 14,\n        \"samples\": [\n          13\n        ],\n        \"semantic_type\": \"\",\n        \"description\": \"\"\n      }\n    },\n    {\n      \"column\": \"Discount\",\n      \"properties\": {\n        \"dtype\": \"number\",\n        \"std\": 0.2064572862477515,\n        \"min\": 0.0,\n        \"max\": 0.8,\n        \"num_unique_values\": 12,\n        \"samples\": [\n          0.32\n        ],\n        \"semantic_type\": \"\",\n        \"description\": \"\"\n      }\n    },\n    {\n      \"column\": \"Profit\",\n      \"properties\": {\n        \"dtype\": \"number\",\n        \"std\": 234.27147564908628,\n        \"min\": -6599.978,\n        \"max\": 8399.976,\n        \"num_unique_values\": 7287,\n        \"samples\": [\n          5.3352\n        ],\n        \"semantic_type\": \"\",\n        \"description\": \"\"\n      }\n    }\n  ]\n}",
              "type": "dataframe",
              "variable_name": "df"
            },
            "text/html": [
              "\n",
              "  <div id=\"df-5347ed7c-4e72-440f-90ca-aaf39219ceab\" class=\"colab-df-container\">\n",
              "    <div>\n",
              "<style scoped>\n",
              "    .dataframe tbody tr th:only-of-type {\n",
              "        vertical-align: middle;\n",
              "    }\n",
              "\n",
              "    .dataframe tbody tr th {\n",
              "        vertical-align: top;\n",
              "    }\n",
              "\n",
              "    .dataframe thead th {\n",
              "        text-align: right;\n",
              "    }\n",
              "</style>\n",
              "<table border=\"1\" class=\"dataframe\">\n",
              "  <thead>\n",
              "    <tr style=\"text-align: right;\">\n",
              "      <th></th>\n",
              "      <th>Order ID</th>\n",
              "      <th>Order Date</th>\n",
              "      <th>Ship Date</th>\n",
              "      <th>Ship Mode</th>\n",
              "      <th>Customer ID</th>\n",
              "      <th>Customer Name</th>\n",
              "      <th>Segment</th>\n",
              "      <th>Country</th>\n",
              "      <th>City</th>\n",
              "      <th>State</th>\n",
              "      <th>Postal Code</th>\n",
              "      <th>Region</th>\n",
              "      <th>Product ID</th>\n",
              "      <th>Category</th>\n",
              "      <th>Sub-Category</th>\n",
              "      <th>Product Name</th>\n",
              "      <th>Sales</th>\n",
              "      <th>Quantity</th>\n",
              "      <th>Discount</th>\n",
              "      <th>Profit</th>\n",
              "    </tr>\n",
              "  </thead>\n",
              "  <tbody>\n",
              "    <tr>\n",
              "      <th>0</th>\n",
              "      <td>CA-2019-103800</td>\n",
              "      <td>2019-01-03</td>\n",
              "      <td>2019-01-07</td>\n",
              "      <td>Standard Class</td>\n",
              "      <td>DP-13000</td>\n",
              "      <td>Darren Powers</td>\n",
              "      <td>Consumer</td>\n",
              "      <td>United States</td>\n",
              "      <td>Houston</td>\n",
              "      <td>Texas</td>\n",
              "      <td>77095</td>\n",
              "      <td>Central</td>\n",
              "      <td>OFF-PA-10000174</td>\n",
              "      <td>Office Supplies</td>\n",
              "      <td>Paper</td>\n",
              "      <td>Message Book, Wirebound, Four 5 1/2\" X 4\" Form...</td>\n",
              "      <td>16.448</td>\n",
              "      <td>2</td>\n",
              "      <td>0.2</td>\n",
              "      <td>5.5512</td>\n",
              "    </tr>\n",
              "    <tr>\n",
              "      <th>1</th>\n",
              "      <td>CA-2019-112326</td>\n",
              "      <td>2019-01-04</td>\n",
              "      <td>2019-01-08</td>\n",
              "      <td>Standard Class</td>\n",
              "      <td>PO-19195</td>\n",
              "      <td>Phillina Ober</td>\n",
              "      <td>Home Office</td>\n",
              "      <td>United States</td>\n",
              "      <td>Naperville</td>\n",
              "      <td>Illinois</td>\n",
              "      <td>60540</td>\n",
              "      <td>Central</td>\n",
              "      <td>OFF-LA-10003223</td>\n",
              "      <td>Office Supplies</td>\n",
              "      <td>Labels</td>\n",
              "      <td>Avery 508</td>\n",
              "      <td>11.784</td>\n",
              "      <td>3</td>\n",
              "      <td>0.2</td>\n",
              "      <td>4.2717</td>\n",
              "    </tr>\n",
              "  </tbody>\n",
              "</table>\n",
              "</div>\n",
              "    <div class=\"colab-df-buttons\">\n",
              "\n",
              "  <div class=\"colab-df-container\">\n",
              "    <button class=\"colab-df-convert\" onclick=\"convertToInteractive('df-5347ed7c-4e72-440f-90ca-aaf39219ceab')\"\n",
              "            title=\"Convert this dataframe to an interactive table.\"\n",
              "            style=\"display:none;\">\n",
              "\n",
              "  <svg xmlns=\"http://www.w3.org/2000/svg\" height=\"24px\" viewBox=\"0 -960 960 960\">\n",
              "    <path d=\"M120-120v-720h720v720H120Zm60-500h600v-160H180v160Zm220 220h160v-160H400v160Zm0 220h160v-160H400v160ZM180-400h160v-160H180v160Zm440 0h160v-160H620v160ZM180-180h160v-160H180v160Zm440 0h160v-160H620v160Z\"/>\n",
              "  </svg>\n",
              "    </button>\n",
              "\n",
              "  <style>\n",
              "    .colab-df-container {\n",
              "      display:flex;\n",
              "      gap: 12px;\n",
              "    }\n",
              "\n",
              "    .colab-df-convert {\n",
              "      background-color: #E8F0FE;\n",
              "      border: none;\n",
              "      border-radius: 50%;\n",
              "      cursor: pointer;\n",
              "      display: none;\n",
              "      fill: #1967D2;\n",
              "      height: 32px;\n",
              "      padding: 0 0 0 0;\n",
              "      width: 32px;\n",
              "    }\n",
              "\n",
              "    .colab-df-convert:hover {\n",
              "      background-color: #E2EBFA;\n",
              "      box-shadow: 0px 1px 2px rgba(60, 64, 67, 0.3), 0px 1px 3px 1px rgba(60, 64, 67, 0.15);\n",
              "      fill: #174EA6;\n",
              "    }\n",
              "\n",
              "    .colab-df-buttons div {\n",
              "      margin-bottom: 4px;\n",
              "    }\n",
              "\n",
              "    [theme=dark] .colab-df-convert {\n",
              "      background-color: #3B4455;\n",
              "      fill: #D2E3FC;\n",
              "    }\n",
              "\n",
              "    [theme=dark] .colab-df-convert:hover {\n",
              "      background-color: #434B5C;\n",
              "      box-shadow: 0px 1px 3px 1px rgba(0, 0, 0, 0.15);\n",
              "      filter: drop-shadow(0px 1px 2px rgba(0, 0, 0, 0.3));\n",
              "      fill: #FFFFFF;\n",
              "    }\n",
              "  </style>\n",
              "\n",
              "    <script>\n",
              "      const buttonEl =\n",
              "        document.querySelector('#df-5347ed7c-4e72-440f-90ca-aaf39219ceab button.colab-df-convert');\n",
              "      buttonEl.style.display =\n",
              "        google.colab.kernel.accessAllowed ? 'block' : 'none';\n",
              "\n",
              "      async function convertToInteractive(key) {\n",
              "        const element = document.querySelector('#df-5347ed7c-4e72-440f-90ca-aaf39219ceab');\n",
              "        const dataTable =\n",
              "          await google.colab.kernel.invokeFunction('convertToInteractive',\n",
              "                                                    [key], {});\n",
              "        if (!dataTable) return;\n",
              "\n",
              "        const docLinkHtml = 'Like what you see? Visit the ' +\n",
              "          '<a target=\"_blank\" href=https://colab.research.google.com/notebooks/data_table.ipynb>data table notebook</a>'\n",
              "          + ' to learn more about interactive tables.';\n",
              "        element.innerHTML = '';\n",
              "        dataTable['output_type'] = 'display_data';\n",
              "        await google.colab.output.renderOutput(dataTable, element);\n",
              "        const docLink = document.createElement('div');\n",
              "        docLink.innerHTML = docLinkHtml;\n",
              "        element.appendChild(docLink);\n",
              "      }\n",
              "    </script>\n",
              "  </div>\n",
              "\n",
              "\n",
              "<div id=\"df-2ccc086a-76f4-4dfc-9a38-b54729f6891c\">\n",
              "  <button class=\"colab-df-quickchart\" onclick=\"quickchart('df-2ccc086a-76f4-4dfc-9a38-b54729f6891c')\"\n",
              "            title=\"Suggest charts\"\n",
              "            style=\"display:none;\">\n",
              "\n",
              "<svg xmlns=\"http://www.w3.org/2000/svg\" height=\"24px\"viewBox=\"0 0 24 24\"\n",
              "     width=\"24px\">\n",
              "    <g>\n",
              "        <path d=\"M19 3H5c-1.1 0-2 .9-2 2v14c0 1.1.9 2 2 2h14c1.1 0 2-.9 2-2V5c0-1.1-.9-2-2-2zM9 17H7v-7h2v7zm4 0h-2V7h2v10zm4 0h-2v-4h2v4z\"/>\n",
              "    </g>\n",
              "</svg>\n",
              "  </button>\n",
              "\n",
              "<style>\n",
              "  .colab-df-quickchart {\n",
              "      --bg-color: #E8F0FE;\n",
              "      --fill-color: #1967D2;\n",
              "      --hover-bg-color: #E2EBFA;\n",
              "      --hover-fill-color: #174EA6;\n",
              "      --disabled-fill-color: #AAA;\n",
              "      --disabled-bg-color: #DDD;\n",
              "  }\n",
              "\n",
              "  [theme=dark] .colab-df-quickchart {\n",
              "      --bg-color: #3B4455;\n",
              "      --fill-color: #D2E3FC;\n",
              "      --hover-bg-color: #434B5C;\n",
              "      --hover-fill-color: #FFFFFF;\n",
              "      --disabled-bg-color: #3B4455;\n",
              "      --disabled-fill-color: #666;\n",
              "  }\n",
              "\n",
              "  .colab-df-quickchart {\n",
              "    background-color: var(--bg-color);\n",
              "    border: none;\n",
              "    border-radius: 50%;\n",
              "    cursor: pointer;\n",
              "    display: none;\n",
              "    fill: var(--fill-color);\n",
              "    height: 32px;\n",
              "    padding: 0;\n",
              "    width: 32px;\n",
              "  }\n",
              "\n",
              "  .colab-df-quickchart:hover {\n",
              "    background-color: var(--hover-bg-color);\n",
              "    box-shadow: 0 1px 2px rgba(60, 64, 67, 0.3), 0 1px 3px 1px rgba(60, 64, 67, 0.15);\n",
              "    fill: var(--button-hover-fill-color);\n",
              "  }\n",
              "\n",
              "  .colab-df-quickchart-complete:disabled,\n",
              "  .colab-df-quickchart-complete:disabled:hover {\n",
              "    background-color: var(--disabled-bg-color);\n",
              "    fill: var(--disabled-fill-color);\n",
              "    box-shadow: none;\n",
              "  }\n",
              "\n",
              "  .colab-df-spinner {\n",
              "    border: 2px solid var(--fill-color);\n",
              "    border-color: transparent;\n",
              "    border-bottom-color: var(--fill-color);\n",
              "    animation:\n",
              "      spin 1s steps(1) infinite;\n",
              "  }\n",
              "\n",
              "  @keyframes spin {\n",
              "    0% {\n",
              "      border-color: transparent;\n",
              "      border-bottom-color: var(--fill-color);\n",
              "      border-left-color: var(--fill-color);\n",
              "    }\n",
              "    20% {\n",
              "      border-color: transparent;\n",
              "      border-left-color: var(--fill-color);\n",
              "      border-top-color: var(--fill-color);\n",
              "    }\n",
              "    30% {\n",
              "      border-color: transparent;\n",
              "      border-left-color: var(--fill-color);\n",
              "      border-top-color: var(--fill-color);\n",
              "      border-right-color: var(--fill-color);\n",
              "    }\n",
              "    40% {\n",
              "      border-color: transparent;\n",
              "      border-right-color: var(--fill-color);\n",
              "      border-top-color: var(--fill-color);\n",
              "    }\n",
              "    60% {\n",
              "      border-color: transparent;\n",
              "      border-right-color: var(--fill-color);\n",
              "    }\n",
              "    80% {\n",
              "      border-color: transparent;\n",
              "      border-right-color: var(--fill-color);\n",
              "      border-bottom-color: var(--fill-color);\n",
              "    }\n",
              "    90% {\n",
              "      border-color: transparent;\n",
              "      border-bottom-color: var(--fill-color);\n",
              "    }\n",
              "  }\n",
              "</style>\n",
              "\n",
              "  <script>\n",
              "    async function quickchart(key) {\n",
              "      const quickchartButtonEl =\n",
              "        document.querySelector('#' + key + ' button');\n",
              "      quickchartButtonEl.disabled = true;  // To prevent multiple clicks.\n",
              "      quickchartButtonEl.classList.add('colab-df-spinner');\n",
              "      try {\n",
              "        const charts = await google.colab.kernel.invokeFunction(\n",
              "            'suggestCharts', [key], {});\n",
              "      } catch (error) {\n",
              "        console.error('Error during call to suggestCharts:', error);\n",
              "      }\n",
              "      quickchartButtonEl.classList.remove('colab-df-spinner');\n",
              "      quickchartButtonEl.classList.add('colab-df-quickchart-complete');\n",
              "    }\n",
              "    (() => {\n",
              "      let quickchartButtonEl =\n",
              "        document.querySelector('#df-2ccc086a-76f4-4dfc-9a38-b54729f6891c button');\n",
              "      quickchartButtonEl.style.display =\n",
              "        google.colab.kernel.accessAllowed ? 'block' : 'none';\n",
              "    })();\n",
              "  </script>\n",
              "</div>\n",
              "\n",
              "    </div>\n",
              "  </div>\n"
            ],
            "text/plain": [
              "         Order ID  Order Date   Ship Date       Ship Mode Customer ID  \\\n",
              "0  CA-2019-103800  2019-01-03  2019-01-07  Standard Class    DP-13000   \n",
              "1  CA-2019-112326  2019-01-04  2019-01-08  Standard Class    PO-19195   \n",
              "\n",
              "   Customer Name      Segment        Country        City     State  \\\n",
              "0  Darren Powers     Consumer  United States     Houston     Texas   \n",
              "1  Phillina Ober  Home Office  United States  Naperville  Illinois   \n",
              "\n",
              "   Postal Code   Region       Product ID         Category Sub-Category  \\\n",
              "0        77095  Central  OFF-PA-10000174  Office Supplies        Paper   \n",
              "1        60540  Central  OFF-LA-10003223  Office Supplies       Labels   \n",
              "\n",
              "                                        Product Name   Sales  Quantity  \\\n",
              "0  Message Book, Wirebound, Four 5 1/2\" X 4\" Form...  16.448         2   \n",
              "1                                          Avery 508  11.784         3   \n",
              "\n",
              "   Discount  Profit  \n",
              "0       0.2  5.5512  \n",
              "1       0.2  4.2717  "
            ]
          },
          "execution_count": 17,
          "metadata": {},
          "output_type": "execute_result"
        }
      ],
      "source": [
        "df.head(2)"
      ]
    },
    {
      "cell_type": "code",
      "execution_count": null,
      "metadata": {
        "colab": {
          "background_save": true,
          "base_uri": "https://localhost:8080/"
        },
        "id": "QeoGZZqfHsWU",
        "outputId": "6e6cd047-3203-4509-9777-2c693264172b"
      },
      "outputs": [
        {
          "name": "stdout",
          "output_type": "stream",
          "text": [
            "          State  Order ID\n",
            "0    California      2001\n",
            "1      New York      1128\n",
            "2         Texas       985\n",
            "3  Pennsylvania       587\n",
            "4    Washington       506\n"
          ]
        }
      ],
      "source": [
        "state=df.groupby([\"State\"])[\"Order ID\"].count()\n",
        "\n",
        "print(state)"
      ]
    },
    {
      "cell_type": "code",
      "source": [
        "product=df[\"Category\"].unique()\n",
        "print(product)\n",
        "product_popularity= df.groupby([\"Category\"])[\"Sales\"].sum().reset_index()\n",
        "print(product_popularity)\n",
        "subcategory=df.groupby([\"Category\",\"Sub-Category\"])[\"Sales\"].sum().reset_index()\n",
        "print(subcategory)"
      ],
      "metadata": {
        "colab": {
          "base_uri": "https://localhost:8080/"
        },
        "id": "i27WB04qml0s",
        "outputId": "6998acdf-38cb-4370-f45a-231842632b14"
      },
      "execution_count": null,
      "outputs": [
        {
          "output_type": "stream",
          "name": "stdout",
          "text": [
            "['Office Supplies' 'Furniture' 'Technology']\n",
            "          Category        Sales\n",
            "0        Furniture  741718.4233\n",
            "1  Office Supplies  719047.0320\n",
            "2       Technology  836154.0330\n",
            "           Category Sub-Category        Sales\n",
            "0         Furniture    Bookcases  114879.9963\n",
            "1         Furniture       Chairs  328167.7310\n",
            "2         Furniture  Furnishings   91705.1640\n",
            "3         Furniture       Tables  206965.5320\n",
            "4   Office Supplies   Appliances  107532.1610\n",
            "5   Office Supplies          Art   27118.7920\n",
            "6   Office Supplies      Binders  203412.7330\n",
            "7   Office Supplies    Envelopes   16476.4020\n",
            "8   Office Supplies    Fasteners    3024.2800\n",
            "9   Office Supplies       Labels   12486.3120\n",
            "10  Office Supplies        Paper   78479.2060\n",
            "11  Office Supplies      Storage  223843.6080\n",
            "12  Office Supplies     Supplies   46673.5380\n",
            "13       Technology  Accessories  167380.3180\n",
            "14       Technology      Copiers  149528.0300\n",
            "15       Technology     Machines  189238.6310\n",
            "16       Technology       Phones  330007.0540\n"
          ]
        }
      ]
    },
    {
      "cell_type": "code",
      "source": [
        "plt.pie(product_popularity[\"Sales\"],labels=product_popularity[\"Category\"],autopct=\"%1.1f%%\")"
      ],
      "metadata": {
        "colab": {
          "base_uri": "https://localhost:8080/",
          "height": 562
        },
        "id": "PE7rfaCqssKm",
        "outputId": "a2f0631d-ed66-4faa-96d1-0631247f4ecb"
      },
      "execution_count": null,
      "outputs": [
        {
          "output_type": "execute_result",
          "data": {
            "text/plain": [
              "([<matplotlib.patches.Wedge at 0x7c29d50740d0>,\n",
              "  <matplotlib.patches.Wedge at 0x7c29d50bb340>,\n",
              "  <matplotlib.patches.Wedge at 0x7c29d536f100>],\n",
              " [Text(0.5808684552772209, 0.9341262428943186, 'Furniture'),\n",
              "  Text(-1.0908369916757952, 0.1416850648152484, 'Office Supplies'),\n",
              "  Text(0.4557101492301107, -1.0011634531327391, 'Technology')],\n",
              " [Text(0.31683733924212043, 0.5095234052150828, '32.3%'),\n",
              "  Text(-0.5950019954595246, 0.07728276262649911, '31.3%'),\n",
              "  Text(0.24856917230733308, -0.5460891562542213, '36.4%')])"
            ]
          },
          "metadata": {},
          "execution_count": 14
        },
        {
          "output_type": "display_data",
          "data": {
            "text/plain": [
              "<Figure size 640x480 with 1 Axes>"
            ],
            "image/png": "[encoded data removed]"
          },
          "metadata": {}
        }
      ]
    },
    {
      "cell_type": "code",
      "source": [
        "df.head(2)\n",
        "state_sale=df.groupby([\"State\"])[\"Sales\"].sum().reset_index()\n",
        "state_sale=state_sale.rename(columns={\"Sales\":\"Total sales\"})\n",
        "state_sale=state_sale.sort_values(by=\"Total sales\",ascending=False)\n",
        "print(state_sale.head().reset_index(drop=True))"
      ],
      "metadata": {
        "colab": {
          "base_uri": "https://localhost:8080/"
        },
        "id": "_MWTeNaatHak",
        "outputId": "5e2a166d-1fdc-48e4-9b4e-61b76175547c"
      },
      "execution_count": null,
      "outputs": [
        {
          "output_type": "stream",
          "name": "stdout",
          "text": [
            "          State  Total sales\n",
            "0    California  457687.6315\n",
            "1      New York  310876.2710\n",
            "2         Texas  170188.0458\n",
            "3    Washington  138641.2700\n",
            "4  Pennsylvania  116511.9140\n"
          ]
        }
      ]
    },
    {
      "cell_type": "code",
      "source": [
        "city_sale=df.groupby([\"City\"])[\"Sales\"].sum().reset_index()\n",
        "city_sale=city_sale.sort_values(by=\"Sales\",ascending=False)\n",
        "print(city_sale.head().reset_index(drop=True))"
      ],
      "metadata": {
        "colab": {
          "base_uri": "https://localhost:8080/"
        },
        "id": "r5gzk2Jcuqbm",
        "outputId": "22f0aecd-d09b-4c68-b17a-387ac86d7c70"
      },
      "execution_count": null,
      "outputs": [
        {
          "output_type": "stream",
          "name": "stdout",
          "text": [
            "            City       Sales\n",
            "0  New York City  256368.161\n",
            "1    Los Angeles  175851.341\n",
            "2        Seattle  119540.742\n",
            "3  San Francisco  112669.092\n",
            "4   Philadelphia  109077.013\n"
          ]
        }
      ]
    },
    {
      "cell_type": "code",
      "source": [
        "top_city_sale=city_sale.head().reset_index(drop=True)\n",
        "print(top_city_sale)"
      ],
      "metadata": {
        "colab": {
          "base_uri": "https://localhost:8080/"
        },
        "id": "w_8mLCSCvjPD",
        "outputId": "949111d3-3267-4e55-f548-e377e58611ab"
      },
      "execution_count": null,
      "outputs": [
        {
          "output_type": "stream",
          "name": "stdout",
          "text": [
            "            City       Sales\n",
            "0  New York City  256368.161\n",
            "1    Los Angeles  175851.341\n",
            "2        Seattle  119540.742\n",
            "3  San Francisco  112669.092\n",
            "4   Philadelphia  109077.013\n"
          ]
        }
      ]
    },
    {
      "cell_type": "code",
      "source": [
        "plt.bar(top_city_sale[\"City\"],top_city_sale[\"Sales\"],color=\"red\")\n",
        "plt.xlabel(\"Top City\")\n",
        "plt.ylabel(\"Total sales\")\n",
        "plt.title(\"Top city vs  Sales\")\n",
        "plt.show()"
      ],
      "metadata": {
        "colab": {
          "base_uri": "https://localhost:8080/",
          "height": 472
        },
        "id": "ZWDttpjdv0Ey",
        "outputId": "691959bc-efe7-4987-9e79-48724d75a80b"
      },
      "execution_count": null,
      "outputs": [
        {
          "output_type": "display_data",
          "data": {
            "text/plain": [
              "<Figure size 640x480 with 1 Axes>"
            ],
            "image/png": "[encoded data removed]"
          },
          "metadata": {}
        }
      ]
    },
    {
      "cell_type": "code",
      "source": [
        "\n",
        "df[\"Order Date\"]= pd.to_datetime(df[\"Order Date\"])\n",
        "yearly_sales= df.groupby(df[\"Order Date\"].dt.year)[\"Sales\"].sum().reset_index()\n",
        "yearly_sales=yearly_sales.rename(columns={\"Order Date\":\"Year\",\"Sales\":\"Total sales\"})\n",
        "print(yearly_sales.head(10).reset_index(drop=True))"
      ],
      "metadata": {
        "colab": {
          "base_uri": "https://localhost:8080/"
        },
        "id": "XaauGWmhzdr8",
        "outputId": "90d61c06-83e2-415d-b661-eb9e7772c89b"
      },
      "execution_count": null,
      "outputs": [
        {
          "output_type": "stream",
          "name": "stdout",
          "text": [
            "   Year  Total sales\n",
            "0  2019  483966.1261\n",
            "1  2020  470532.5090\n",
            "2  2021  609205.5980\n",
            "3  2022  733215.2552\n"
          ]
        }
      ]
    },
    {
      "cell_type": "code",
      "source": [
        "plt.bar(yearly_sales[\"Year\"],yearly_sales[\"Total sales\"],color=\"b\")"
      ],
      "metadata": {
        "colab": {
          "base_uri": "https://localhost:8080/",
          "height": 447
        },
        "id": "USamH5y80_sM",
        "outputId": "8b7b692b-758e-414e-a761-987bb0a00312"
      },
      "execution_count": null,
      "outputs": [
        {
          "output_type": "execute_result",
          "data": {
            "text/plain": [
              "<BarContainer object of 4 artists>"
            ]
          },
          "metadata": {},
          "execution_count": 21
        },
        {
          "output_type": "display_data",
          "data": {
            "text/plain": [
              "<Figure size 640x480 with 1 Axes>"
            ],
            "image/png": "[encoded data removed]"
          },
          "metadata": {}
        }
      ]
    },
    {
      "cell_type": "code",
      "source": [
        "plt.plot(yearly_sales[\"Year\"],yearly_sales[\"Total sales\"])"
      ],
      "metadata": {
        "colab": {
          "base_uri": "https://localhost:8080/",
          "height": 447
        },
        "id": "wmFordfw1rq4",
        "outputId": "9c269fc2-a928-429a-faae-46801255a16c"
      },
      "execution_count": null,
      "outputs": [
        {
          "output_type": "execute_result",
          "data": {
            "text/plain": [
              "[<matplotlib.lines.Line2D at 0x78f6997f8520>]"
            ]
          },
          "metadata": {},
          "execution_count": 35
        },
        {
          "output_type": "display_data",
          "data": {
            "text/plain": [
              "<Figure size 640x480 with 1 Axes>"
            ],
            "image/png": "[encoded data removed]"
          },
          "metadata": {}
        }
      ]
    },
    {
      "cell_type": "code",
      "source": [
        "df[\"Order Date\"]=pd.to_datetime(df[\"Order Date\"])\n",
        "year_sale=df[df[\"Order Date\"].dt.year ==2019]\n",
        "quaterly_sales= year_sale.resample(\"Q\",on=\"Order Date\")['Sales'].sum().reset_index()\n",
        "quaterly_sales=quaterly_sales.rename(columns={\"Order Date\":\"Quater\",\"Sales\":\"Total Sales\"})\n",
        "print(quaterly_sales)"
      ],
      "metadata": {
        "colab": {
          "base_uri": "https://localhost:8080/"
        },
        "id": "IH26KhLM3uqS",
        "outputId": "d59a2e85-b980-4af8-e5ab-9aa3f11a7e47"
      },
      "execution_count": null,
      "outputs": [
        {
          "output_type": "stream",
          "name": "stdout",
          "text": [
            "      Quater  Total Sales\n",
            "0 2019-03-31   74447.7960\n",
            "1 2019-06-30   86257.3876\n",
            "2 2019-09-30  143633.2123\n",
            "3 2019-12-31  179627.7302\n"
          ]
        },
        {
          "output_type": "stream",
          "name": "stderr",
          "text": [
            "<ipython-input-42-f764acb9950b>:3: FutureWarning: 'Q' is deprecated and will be removed in a future version, please use 'QE' instead.\n",
            "  quaterly_sales= year_sale.resample(\"Q\",on=\"Order Date\")['Sales'].sum().reset_index()\n"
          ]
        }
      ]
    },
    {
      "cell_type": "code",
      "source": [
        "plt.plot(quaterly_sales[\"Quater\"],quaterly_sales[\"Total Sales\"],marker='o',linestyle=\"--\")\n",
        "plt.tight_layout()\n",
        "plt.xticks(rotation=75)\n",
        "plt.show()"
      ],
      "metadata": {
        "colab": {
          "base_uri": "https://localhost:8080/",
          "height": 532
        },
        "id": "YMo8QVht4UIv",
        "outputId": "cef9e96a-9e70-4605-e91a-a531e29711b1"
      },
      "execution_count": null,
      "outputs": [
        {
          "output_type": "display_data",
          "data": {
            "text/plain": [
              "<Figure size 640x480 with 1 Axes>"
            ],
            "image/png": "[encoded data removed]"
          },
          "metadata": {}
        }
      ]
    },
    {
      "cell_type": "code",
      "source": [
        "df[\"Order Date\"]=pd.to_datetime(df[\"Order Date\"],dayfirst=True)\n",
        "yearly_sale=df[df[\"Order Date\"].dt.year ==2019]\n",
        "monthly_sale=yearly_sale.resample('M',on='Order Date')['Sales'].sum().reset_index()\n",
        "print(monthly_sale)"
      ],
      "metadata": {
        "colab": {
          "base_uri": "https://localhost:8080/"
        },
        "id": "nleOj4wzSX9L",
        "outputId": "d4e966e5-6c56-43c6-9c45-9e68cdc6eba9"
      },
      "execution_count": null,
      "outputs": [
        {
          "output_type": "stream",
          "name": "stdout",
          "text": [
            "   Order Date       Sales\n",
            "0  2019-01-31  14236.8950\n",
            "1  2019-02-28   4519.8920\n",
            "2  2019-03-31  55691.0090\n",
            "3  2019-04-30  28013.9730\n",
            "4  2019-05-31  23648.2870\n",
            "5  2019-06-30  34595.1276\n",
            "6  2019-07-31  33946.3930\n",
            "7  2019-08-31  27909.4685\n",
            "8  2019-09-30  81777.3508\n",
            "9  2019-10-31  31453.3930\n",
            "10 2019-11-30  78628.7167\n",
            "11 2019-12-31  69545.6205\n"
          ]
        },
        {
          "output_type": "stream",
          "name": "stderr",
          "text": [
            "<ipython-input-49-ca55d055967f>:3: FutureWarning: 'M' is deprecated and will be removed in a future version, please use 'ME' instead.\n",
            "  monthly_sale=yearly_sale.resample('M',on='Order Date')['Sales'].sum().reset_index()\n"
          ]
        }
      ]
    },
    {
      "cell_type": "code",
      "source": [
        "plt.plot(monthly_sale[\"Order Date\"],monthly_sale[\"Sales\"],marker='o',linestyle=\"--\")\n",
        "plt.tight_layout()\n",
        "plt.xticks(rotation=75)\n",
        "plt.show()"
      ],
      "metadata": {
        "colab": {
          "base_uri": "https://localhost:8080/",
          "height": 532
        },
        "id": "VYThjYdBTzoJ",
        "outputId": "2b37688e-3696-41e7-8810-6876d2155020"
      },
      "execution_count": null,
      "outputs": [
        {
          "output_type": "display_data",
          "data": {
            "text/plain": [
              "<Figure size 640x480 with 1 Axes>"
            ],
            "image/png": "[encoded data removed]"
          },
          "metadata": {}
        }
      ]
    },
    {
      "cell_type": "code",
      "source": [
        "df.head()"
      ],
      "metadata": {
        "colab": {
          "base_uri": "https://localhost:8080/",
          "height": 590
        },
        "id": "9EX-CeT9Wt7n",
        "outputId": "e7f6cfbb-6bc1-40b8-8b7d-8ae281141dd3"
      },
      "execution_count": null,
      "outputs": [
        {
          "output_type": "execute_result",
          "data": {
            "text/plain": [
              "         Order ID Order Date   Ship Date       Ship Mode Customer ID  \\\n",
              "0  CA-2019-103800 2019-01-03  2019-01-07  Standard Class    DP-13000   \n",
              "1  CA-2019-112326 2019-01-04  2019-01-08  Standard Class    PO-19195   \n",
              "2  CA-2019-112326 2019-01-04  2019-01-08  Standard Class    PO-19195   \n",
              "3  CA-2019-112326 2019-01-04  2019-01-08  Standard Class    PO-19195   \n",
              "4  CA-2019-141817 2019-01-05  2019-01-12  Standard Class    MB-18085   \n",
              "\n",
              "   Customer Name      Segment        Country          City         State  \\\n",
              "0  Darren Powers     Consumer  United States       Houston         Texas   \n",
              "1  Phillina Ober  Home Office  United States    Naperville      Illinois   \n",
              "2  Phillina Ober  Home Office  United States    Naperville      Illinois   \n",
              "3  Phillina Ober  Home Office  United States    Naperville      Illinois   \n",
              "4     Mick Brown     Consumer  United States  Philadelphia  Pennsylvania   \n",
              "\n",
              "   Postal Code   Region       Product ID         Category Sub-Category  \\\n",
              "0        77095  Central  OFF-PA-10000174  Office Supplies        Paper   \n",
              "1        60540  Central  OFF-LA-10003223  Office Supplies       Labels   \n",
              "2        60540  Central  OFF-ST-10002743  Office Supplies      Storage   \n",
              "3        60540  Central  OFF-BI-10004094  Office Supplies      Binders   \n",
              "4        19143     East  OFF-AR-10003478  Office Supplies          Art   \n",
              "\n",
              "                                        Product Name    Sales  Quantity  \\\n",
              "0  Message Book, Wirebound, Four 5 1/2\" X 4\" Form...   16.448         2   \n",
              "1                                          Avery 508   11.784         3   \n",
              "2                      SAFCO Boltless Steel Shelving  272.736         3   \n",
              "3         GBC Standard Plastic Binding Systems Combs    3.540         2   \n",
              "4  Avery Hi-Liter EverBold Pen Style Fluorescent ...   19.536         3   \n",
              "\n",
              "   Discount   Profit  \n",
              "0       0.2   5.5512  \n",
              "1       0.2   4.2717  \n",
              "2       0.2 -64.7748  \n",
              "3       0.8  -5.4870  \n",
              "4       0.2   4.8840  "
            ],
            "text/html": [
              "\n",
              "  <div id=\"df-ec7650aa-b419-487a-aa96-ef23cd64955a\" class=\"colab-df-container\">\n",
              "    <div>\n",
              "<style scoped>\n",
              "    .dataframe tbody tr th:only-of-type {\n",
              "        vertical-align: middle;\n",
              "    }\n",
              "\n",
              "    .dataframe tbody tr th {\n",
              "        vertical-align: top;\n",
              "    }\n",
              "\n",
              "    .dataframe thead th {\n",
              "        text-align: right;\n",
              "    }\n",
              "</style>\n",
              "<table border=\"1\" class=\"dataframe\">\n",
              "  <thead>\n",
              "    <tr style=\"text-align: right;\">\n",
              "      <th></th>\n",
              "      <th>Order ID</th>\n",
              "      <th>Order Date</th>\n",
              "      <th>Ship Date</th>\n",
              "      <th>Ship Mode</th>\n",
              "      <th>Customer ID</th>\n",
              "      <th>Customer Name</th>\n",
              "      <th>Segment</th>\n",
              "      <th>Country</th>\n",
              "      <th>City</th>\n",
              "      <th>State</th>\n",
              "      <th>Postal Code</th>\n",
              "      <th>Region</th>\n",
              "      <th>Product ID</th>\n",
              "      <th>Category</th>\n",
              "      <th>Sub-Category</th>\n",
              "      <th>Product Name</th>\n",
              "      <th>Sales</th>\n",
              "      <th>Quantity</th>\n",
              "      <th>Discount</th>\n",
              "      <th>Profit</th>\n",
              "    </tr>\n",
              "  </thead>\n",
              "  <tbody>\n",
              "    <tr>\n",
              "      <th>0</th>\n",
              "      <td>CA-2019-103800</td>\n",
              "      <td>2019-01-03</td>\n",
              "      <td>2019-01-07</td>\n",
              "      <td>Standard Class</td>\n",
              "      <td>DP-13000</td>\n",
              "      <td>Darren Powers</td>\n",
              "      <td>Consumer</td>\n",
              "      <td>United States</td>\n",
              "      <td>Houston</td>\n",
              "      <td>Texas</td>\n",
              "      <td>77095</td>\n",
              "      <td>Central</td>\n",
              "      <td>OFF-PA-10000174</td>\n",
              "      <td>Office Supplies</td>\n",
              "      <td>Paper</td>\n",
              "      <td>Message Book, Wirebound, Four 5 1/2\" X 4\" Form...</td>\n",
              "      <td>16.448</td>\n",
              "      <td>2</td>\n",
              "      <td>0.2</td>\n",
              "      <td>5.5512</td>\n",
              "    </tr>\n",
              "    <tr>\n",
              "      <th>1</th>\n",
              "      <td>CA-2019-112326</td>\n",
              "      <td>2019-01-04</td>\n",
              "      <td>2019-01-08</td>\n",
              "      <td>Standard Class</td>\n",
              "      <td>PO-19195</td>\n",
              "      <td>Phillina Ober</td>\n",
              "      <td>Home Office</td>\n",
              "      <td>United States</td>\n",
              "      <td>Naperville</td>\n",
              "      <td>Illinois</td>\n",
              "      <td>60540</td>\n",
              "      <td>Central</td>\n",
              "      <td>OFF-LA-10003223</td>\n",
              "      <td>Office Supplies</td>\n",
              "      <td>Labels</td>\n",
              "      <td>Avery 508</td>\n",
              "      <td>11.784</td>\n",
              "      <td>3</td>\n",
              "      <td>0.2</td>\n",
              "      <td>4.2717</td>\n",
              "    </tr>\n",
              "    <tr>\n",
              "      <th>2</th>\n",
              "      <td>CA-2019-112326</td>\n",
              "      <td>2019-01-04</td>\n",
              "      <td>2019-01-08</td>\n",
              "      <td>Standard Class</td>\n",
              "      <td>PO-19195</td>\n",
              "      <td>Phillina Ober</td>\n",
              "      <td>Home Office</td>\n",
              "      <td>United States</td>\n",
              "      <td>Naperville</td>\n",
              "      <td>Illinois</td>\n",
              "      <td>60540</td>\n",
              "      <td>Central</td>\n",
              "      <td>OFF-ST-10002743</td>\n",
              "      <td>Office Supplies</td>\n",
              "      <td>Storage</td>\n",
              "      <td>SAFCO Boltless Steel Shelving</td>\n",
              "      <td>272.736</td>\n",
              "      <td>3</td>\n",
              "      <td>0.2</td>\n",
              "      <td>-64.7748</td>\n",
              "    </tr>\n",
              "    <tr>\n",
              "      <th>3</th>\n",
              "      <td>CA-2019-112326</td>\n",
              "      <td>2019-01-04</td>\n",
              "      <td>2019-01-08</td>\n",
              "      <td>Standard Class</td>\n",
              "      <td>PO-19195</td>\n",
              "      <td>Phillina Ober</td>\n",
              "      <td>Home Office</td>\n",
              "      <td>United States</td>\n",
              "      <td>Naperville</td>\n",
              "      <td>Illinois</td>\n",
              "      <td>60540</td>\n",
              "      <td>Central</td>\n",
              "      <td>OFF-BI-10004094</td>\n",
              "      <td>Office Supplies</td>\n",
              "      <td>Binders</td>\n",
              "      <td>GBC Standard Plastic Binding Systems Combs</td>\n",
              "      <td>3.540</td>\n",
              "      <td>2</td>\n",
              "      <td>0.8</td>\n",
              "      <td>-5.4870</td>\n",
              "    </tr>\n",
              "    <tr>\n",
              "      <th>4</th>\n",
              "      <td>CA-2019-141817</td>\n",
              "      <td>2019-01-05</td>\n",
              "      <td>2019-01-12</td>\n",
              "      <td>Standard Class</td>\n",
              "      <td>MB-18085</td>\n",
              "      <td>Mick Brown</td>\n",
              "      <td>Consumer</td>\n",
              "      <td>United States</td>\n",
              "      <td>Philadelphia</td>\n",
              "      <td>Pennsylvania</td>\n",
              "      <td>19143</td>\n",
              "      <td>East</td>\n",
              "      <td>OFF-AR-10003478</td>\n",
              "      <td>Office Supplies</td>\n",
              "      <td>Art</td>\n",
              "      <td>Avery Hi-Liter EverBold Pen Style Fluorescent ...</td>\n",
              "      <td>19.536</td>\n",
              "      <td>3</td>\n",
              "      <td>0.2</td>\n",
              "      <td>4.8840</td>\n",
              "    </tr>\n",
              "  </tbody>\n",
              "</table>\n",
              "</div>\n",
              "    <div class=\"colab-df-buttons\">\n",
              "\n",
              "  <div class=\"colab-df-container\">\n",
              "    <button class=\"colab-df-convert\" onclick=\"convertToInteractive('df-ec7650aa-b419-487a-aa96-ef23cd64955a')\"\n",
              "            title=\"Convert this dataframe to an interactive table.\"\n",
              "            style=\"display:none;\">\n",
              "\n",
              "  <svg xmlns=\"http://www.w3.org/2000/svg\" height=\"24px\" viewBox=\"0 -960 960 960\">\n",
              "    <path d=\"M120-120v-720h720v720H120Zm60-500h600v-160H180v160Zm220 220h160v-160H400v160Zm0 220h160v-160H400v160ZM180-400h160v-160H180v160Zm440 0h160v-160H620v160ZM180-180h160v-160H180v160Zm440 0h160v-160H620v160Z\"/>\n",
              "  </svg>\n",
              "    </button>\n",
              "\n",
              "  <style>\n",
              "    .colab-df-container {\n",
              "      display:flex;\n",
              "      gap: 12px;\n",
              "    }\n",
              "\n",
              "    .colab-df-convert {\n",
              "      background-color: #E8F0FE;\n",
              "      border: none;\n",
              "      border-radius: 50%;\n",
              "      cursor: pointer;\n",
              "      display: none;\n",
              "      fill: #1967D2;\n",
              "      height: 32px;\n",
              "      padding: 0 0 0 0;\n",
              "      width: 32px;\n",
              "    }\n",
              "\n",
              "    .colab-df-convert:hover {\n",
              "      background-color: #E2EBFA;\n",
              "      box-shadow: 0px 1px 2px rgba(60, 64, 67, 0.3), 0px 1px 3px 1px rgba(60, 64, 67, 0.15);\n",
              "      fill: #174EA6;\n",
              "    }\n",
              "\n",
              "    .colab-df-buttons div {\n",
              "      margin-bottom: 4px;\n",
              "    }\n",
              "\n",
              "    [theme=dark] .colab-df-convert {\n",
              "      background-color: #3B4455;\n",
              "      fill: #D2E3FC;\n",
              "    }\n",
              "\n",
              "    [theme=dark] .colab-df-convert:hover {\n",
              "      background-color: #434B5C;\n",
              "      box-shadow: 0px 1px 3px 1px rgba(0, 0, 0, 0.15);\n",
              "      filter: drop-shadow(0px 1px 2px rgba(0, 0, 0, 0.3));\n",
              "      fill: #FFFFFF;\n",
              "    }\n",
              "  </style>\n",
              "\n",
              "    <script>\n",
              "      const buttonEl =\n",
              "        document.querySelector('#df-ec7650aa-b419-487a-aa96-ef23cd64955a button.colab-df-convert');\n",
              "      buttonEl.style.display =\n",
              "        google.colab.kernel.accessAllowed ? 'block' : 'none';\n",
              "\n",
              "      async function convertToInteractive(key) {\n",
              "        const element = document.querySelector('#df-ec7650aa-b419-487a-aa96-ef23cd64955a');\n",
              "        const dataTable =\n",
              "          await google.colab.kernel.invokeFunction('convertToInteractive',\n",
              "                                                    [key], {});\n",
              "        if (!dataTable) return;\n",
              "\n",
              "        const docLinkHtml = 'Like what you see? Visit the ' +\n",
              "          '<a target=\"_blank\" href=https://colab.research.google.com/notebooks/data_table.ipynb>data table notebook</a>'\n",
              "          + ' to learn more about interactive tables.';\n",
              "        element.innerHTML = '';\n",
              "        dataTable['output_type'] = 'display_data';\n",
              "        await google.colab.output.renderOutput(dataTable, element);\n",
              "        const docLink = document.createElement('div');\n",
              "        docLink.innerHTML = docLinkHtml;\n",
              "        element.appendChild(docLink);\n",
              "      }\n",
              "    </script>\n",
              "  </div>\n",
              "\n",
              "\n",
              "<div id=\"df-542263d9-5a14-4e95-9da6-3b1112578fa6\">\n",
              "  <button class=\"colab-df-quickchart\" onclick=\"quickchart('df-542263d9-5a14-4e95-9da6-3b1112578fa6')\"\n",
              "            title=\"Suggest charts\"\n",
              "            style=\"display:none;\">\n",
              "\n",
              "<svg xmlns=\"http://www.w3.org/2000/svg\" height=\"24px\"viewBox=\"0 0 24 24\"\n",
              "     width=\"24px\">\n",
              "    <g>\n",
              "        <path d=\"M19 3H5c-1.1 0-2 .9-2 2v14c0 1.1.9 2 2 2h14c1.1 0 2-.9 2-2V5c0-1.1-.9-2-2-2zM9 17H7v-7h2v7zm4 0h-2V7h2v10zm4 0h-2v-4h2v4z\"/>\n",
              "    </g>\n",
              "</svg>\n",
              "  </button>\n",
              "\n",
              "<style>\n",
              "  .colab-df-quickchart {\n",
              "      --bg-color: #E8F0FE;\n",
              "      --fill-color: #1967D2;\n",
              "      --hover-bg-color: #E2EBFA;\n",
              "      --hover-fill-color: #174EA6;\n",
              "      --disabled-fill-color: #AAA;\n",
              "      --disabled-bg-color: #DDD;\n",
              "  }\n",
              "\n",
              "  [theme=dark] .colab-df-quickchart {\n",
              "      --bg-color: #3B4455;\n",
              "      --fill-color: #D2E3FC;\n",
              "      --hover-bg-color: #434B5C;\n",
              "      --hover-fill-color: #FFFFFF;\n",
              "      --disabled-bg-color: #3B4455;\n",
              "      --disabled-fill-color: #666;\n",
              "  }\n",
              "\n",
              "  .colab-df-quickchart {\n",
              "    background-color: var(--bg-color);\n",
              "    border: none;\n",
              "    border-radius: 50%;\n",
              "    cursor: pointer;\n",
              "    display: none;\n",
              "    fill: var(--fill-color);\n",
              "    height: 32px;\n",
              "    padding: 0;\n",
              "    width: 32px;\n",
              "  }\n",
              "\n",
              "  .colab-df-quickchart:hover {\n",
              "    background-color: var(--hover-bg-color);\n",
              "    box-shadow: 0 1px 2px rgba(60, 64, 67, 0.3), 0 1px 3px 1px rgba(60, 64, 67, 0.15);\n",
              "    fill: var(--button-hover-fill-color);\n",
              "  }\n",
              "\n",
              "  .colab-df-quickchart-complete:disabled,\n",
              "  .colab-df-quickchart-complete:disabled:hover {\n",
              "    background-color: var(--disabled-bg-color);\n",
              "    fill: var(--disabled-fill-color);\n",
              "    box-shadow: none;\n",
              "  }\n",
              "\n",
              "  .colab-df-spinner {\n",
              "    border: 2px solid var(--fill-color);\n",
              "    border-color: transparent;\n",
              "    border-bottom-color: var(--fill-color);\n",
              "    animation:\n",
              "      spin 1s steps(1) infinite;\n",
              "  }\n",
              "\n",
              "  @keyframes spin {\n",
              "    0% {\n",
              "      border-color: transparent;\n",
              "      border-bottom-color: var(--fill-color);\n",
              "      border-left-color: var(--fill-color);\n",
              "    }\n",
              "    20% {\n",
              "      border-color: transparent;\n",
              "      border-left-color: var(--fill-color);\n",
              "      border-top-color: var(--fill-color);\n",
              "    }\n",
              "    30% {\n",
              "      border-color: transparent;\n",
              "      border-left-color: var(--fill-color);\n",
              "      border-top-color: var(--fill-color);\n",
              "      border-right-color: var(--fill-color);\n",
              "    }\n",
              "    40% {\n",
              "      border-color: transparent;\n",
              "      border-right-color: var(--fill-color);\n",
              "      border-top-color: var(--fill-color);\n",
              "    }\n",
              "    60% {\n",
              "      border-color: transparent;\n",
              "      border-right-color: var(--fill-color);\n",
              "    }\n",
              "    80% {\n",
              "      border-color: transparent;\n",
              "      border-right-color: var(--fill-color);\n",
              "      border-bottom-color: var(--fill-color);\n",
              "    }\n",
              "    90% {\n",
              "      border-color: transparent;\n",
              "      border-bottom-color: var(--fill-color);\n",
              "    }\n",
              "  }\n",
              "</style>\n",
              "\n",
              "  <script>\n",
              "    async function quickchart(key) {\n",
              "      const quickchartButtonEl =\n",
              "        document.querySelector('#' + key + ' button');\n",
              "      quickchartButtonEl.disabled = true;  // To prevent multiple clicks.\n",
              "      quickchartButtonEl.classList.add('colab-df-spinner');\n",
              "      try {\n",
              "        const charts = await google.colab.kernel.invokeFunction(\n",
              "            'suggestCharts', [key], {});\n",
              "      } catch (error) {\n",
              "        console.error('Error during call to suggestCharts:', error);\n",
              "      }\n",
              "      quickchartButtonEl.classList.remove('colab-df-spinner');\n",
              "      quickchartButtonEl.classList.add('colab-df-quickchart-complete');\n",
              "    }\n",
              "    (() => {\n",
              "      let quickchartButtonEl =\n",
              "        document.querySelector('#df-542263d9-5a14-4e95-9da6-3b1112578fa6 button');\n",
              "      quickchartButtonEl.style.display =\n",
              "        google.colab.kernel.accessAllowed ? 'block' : 'none';\n",
              "    })();\n",
              "  </script>\n",
              "</div>\n",
              "\n",
              "    </div>\n",
              "  </div>\n"
            ],
            "application/vnd.google.colaboratory.intrinsic+json": {
              "type": "dataframe",
              "variable_name": "df",
              "summary": "{\n  \"name\": \"df\",\n  \"rows\": 9993,\n  \"fields\": [\n    {\n      \"column\": \"Order ID\",\n      \"properties\": {\n        \"dtype\": \"string\",\n        \"num_unique_values\": 5009,\n        \"samples\": [\n          \"CA-2021-136329\",\n          \"CA-2022-166499\",\n          \"US-2022-116652\"\n        ],\n        \"semantic_type\": \"\",\n        \"description\": \"\"\n      }\n    },\n    {\n      \"column\": \"Order Date\",\n      \"properties\": {\n        \"dtype\": \"date\",\n        \"min\": \"2019-01-03 00:00:00\",\n        \"max\": \"2022-12-30 00:00:00\",\n        \"num_unique_values\": 1237,\n        \"samples\": [\n          \"2021-01-29 00:00:00\",\n          \"2019-08-09 00:00:00\",\n          \"2021-11-13 00:00:00\"\n        ],\n        \"semantic_type\": \"\",\n        \"description\": \"\"\n      }\n    },\n    {\n      \"column\": \"Ship Date\",\n      \"properties\": {\n        \"dtype\": \"object\",\n        \"num_unique_values\": 1332,\n        \"samples\": [\n          \"2022-11-13\",\n          \"2022-04-02\",\n          \"2022-10-14\"\n        ],\n        \"semantic_type\": \"\",\n        \"description\": \"\"\n      }\n    },\n    {\n      \"column\": \"Ship Mode\",\n      \"properties\": {\n        \"dtype\": \"category\",\n        \"num_unique_values\": 4,\n        \"samples\": [\n          \"First Class\",\n          \"Same Day\",\n          \"Standard Class\"\n        ],\n        \"semantic_type\": \"\",\n        \"description\": \"\"\n      }\n    },\n    {\n      \"column\": \"Customer ID\",\n      \"properties\": {\n        \"dtype\": \"category\",\n        \"num_unique_values\": 793,\n        \"samples\": [\n          \"PJ-19015\",\n          \"PG-18895\",\n          \"JG-15310\"\n        ],\n        \"semantic_type\": \"\",\n        \"description\": \"\"\n      }\n    },\n    {\n      \"column\": \"Customer Name\",\n      \"properties\": {\n        \"dtype\": \"category\",\n        \"num_unique_values\": 793,\n        \"samples\": [\n          \"Pauline Johnson\",\n          \"Paul Gonzalez\",\n          \"Jason Gross\"\n        ],\n        \"semantic_type\": \"\",\n        \"description\": \"\"\n      }\n    },\n    {\n      \"column\": \"Segment\",\n      \"properties\": {\n        \"dtype\": \"category\",\n        \"num_unique_values\": 3,\n        \"samples\": [\n          \"Consumer\",\n          \"Home Office\",\n          \"Corporate\"\n        ],\n        \"semantic_type\": \"\",\n        \"description\": \"\"\n      }\n    },\n    {\n      \"column\": \"Country\",\n      \"properties\": {\n        \"dtype\": \"category\",\n        \"num_unique_values\": 1,\n        \"samples\": [\n          \"United States\"\n        ],\n        \"semantic_type\": \"\",\n        \"description\": \"\"\n      }\n    },\n    {\n      \"column\": \"City\",\n      \"properties\": {\n        \"dtype\": \"category\",\n        \"num_unique_values\": 531,\n        \"samples\": [\n          \"Elyria\"\n        ],\n        \"semantic_type\": \"\",\n        \"description\": \"\"\n      }\n    },\n    {\n      \"column\": \"State\",\n      \"properties\": {\n        \"dtype\": \"category\",\n        \"num_unique_values\": 49,\n        \"samples\": [\n          \"Michigan\"\n        ],\n        \"semantic_type\": \"\",\n        \"description\": \"\"\n      }\n    },\n    {\n      \"column\": \"Postal Code\",\n      \"properties\": {\n        \"dtype\": \"number\",\n        \"std\": 32065,\n        \"min\": 1040,\n        \"max\": 99301,\n        \"num_unique_values\": 631,\n        \"samples\": [\n          80112\n        ],\n        \"semantic_type\": \"\",\n        \"description\": \"\"\n      }\n    },\n    {\n      \"column\": \"Region\",\n      \"properties\": {\n        \"dtype\": \"category\",\n        \"num_unique_values\": 4,\n        \"samples\": [\n          \"East\"\n        ],\n        \"semantic_type\": \"\",\n        \"description\": \"\"\n      }\n    },\n    {\n      \"column\": \"Product ID\",\n      \"properties\": {\n        \"dtype\": \"category\",\n        \"num_unique_values\": 1862,\n        \"samples\": [\n          \"FUR-TA-10000198\"\n        ],\n        \"semantic_type\": \"\",\n        \"description\": \"\"\n      }\n    },\n    {\n      \"column\": \"Category\",\n      \"properties\": {\n        \"dtype\": \"category\",\n        \"num_unique_values\": 3,\n        \"samples\": [\n          \"Office Supplies\"\n        ],\n        \"semantic_type\": \"\",\n        \"description\": \"\"\n      }\n    },\n    {\n      \"column\": \"Sub-Category\",\n      \"properties\": {\n        \"dtype\": \"category\",\n        \"num_unique_values\": 17,\n        \"samples\": [\n          \"Paper\"\n        ],\n        \"semantic_type\": \"\",\n        \"description\": \"\"\n      }\n    },\n    {\n      \"column\": \"Product Name\",\n      \"properties\": {\n        \"dtype\": \"category\",\n        \"num_unique_values\": 1850,\n        \"samples\": [\n          \"Bush Advantage Collection Racetrack Conference Table\"\n        ],\n        \"semantic_type\": \"\",\n        \"description\": \"\"\n      }\n    },\n    {\n      \"column\": \"Sales\",\n      \"properties\": {\n        \"dtype\": \"number\",\n        \"std\": 623.2760738589195,\n        \"min\": 0.444,\n        \"max\": 22638.48,\n        \"num_unique_values\": 5825,\n        \"samples\": [\n          50.784\n        ],\n        \"semantic_type\": \"\",\n        \"description\": \"\"\n      }\n    },\n    {\n      \"column\": \"Quantity\",\n      \"properties\": {\n        \"dtype\": \"number\",\n        \"std\": 2,\n        \"min\": 1,\n        \"max\": 14,\n        \"num_unique_values\": 14,\n        \"samples\": [\n          13\n        ],\n        \"semantic_type\": \"\",\n        \"description\": \"\"\n      }\n    },\n    {\n      \"column\": \"Discount\",\n      \"properties\": {\n        \"dtype\": \"number\",\n        \"std\": 0.2064572862477515,\n        \"min\": 0.0,\n        \"max\": 0.8,\n        \"num_unique_values\": 12,\n        \"samples\": [\n          0.32\n        ],\n        \"semantic_type\": \"\",\n        \"description\": \"\"\n      }\n    },\n    {\n      \"column\": \"Profit\",\n      \"properties\": {\n        \"dtype\": \"number\",\n        \"std\": 234.27147564908628,\n        \"min\": -6599.978,\n        \"max\": 8399.976,\n        \"num_unique_values\": 7287,\n        \"samples\": [\n          5.3352\n        ],\n        \"semantic_type\": \"\",\n        \"description\": \"\"\n      }\n    }\n  ]\n}"
            }
          },
          "metadata": {},
          "execution_count": 52
        }
      ]
    },
    {
      "cell_type": "markdown",
      "source": [
        "Mappping"
      ],
      "metadata": {
        "id": "Is-TetihYRtC"
      }
    },
    {
      "cell_type": "code",
      "source": [
        "import plotly.graph_objects as go\n",
        "from plotly.subplots import make_subplots\n",
        "import plotly.express as px\n",
        "import plotly.io as pio\n"
      ],
      "metadata": {
        "id": "f4N1PbNlYQcl"
      },
      "execution_count": 6,
      "outputs": []
    },
    {
      "cell_type": "code",
      "source": [
        "all_state_mapping={\n",
        "  \"Alabama\": \"AL\",\n",
        "  \"Alaska\": \"AK\",\n",
        "  \"Arizona\": \"AZ\",\n",
        "  \"Arkansas\": \"AR\",\n",
        "  \"California\": \"CA\",\n",
        "  \"Colorado\": \"CO\",\n",
        "  \"Connecticut\": \"CT\",\n",
        "  \"Delaware\": \"DE\",\n",
        "  \"Florida\": \"FL\",\n",
        "  \"Georgia\": \"GA\",\n",
        "  \"Hawaii\": \"HI\",\n",
        "  \"Idaho\": \"ID\",\n",
        "  \"Illinois\": \"IL\",\n",
        "  \"Indiana\": \"IN\",\n",
        "  \"Iowa\": \"IA\",\n",
        "  \"Kansas\": \"KS\",\n",
        "  \"Kentucky\": \"KY\",\n",
        "  \"Louisiana\": \"LA\",\n",
        "  \"Maine\": \"ME\",\n",
        "  \"Maryland\": \"MD\",\n",
        "  \"Massachusetts\": \"MA\",\n",
        "  \"Michigan\": \"MI\",\n",
        "  \"Minnesota\": \"MN\",\n",
        "  \"Mississippi\": \"MS\",\n",
        "  \"Missouri\": \"MO\",\n",
        "  \"Montana\": \"MT\",\n",
        "  \"Nebraska\": \"NE\",\n",
        "  \"Nevada\": \"NV\",\n",
        "  \"New Hampshire\": \"NH\",\n",
        "  \"New Jersey\": \"NJ\",\n",
        "  \"New Mexico\": \"NM\",\n",
        "  \"New York\": \"NY\",\n",
        "  \"North Carolina\": \"NC\",\n",
        "  \"North Dakota\": \"ND\",\n",
        "  \"Ohio\": \"OH\",\n",
        "  \"Oklahoma\": \"OK\",\n",
        "  \"Oregon\": \"OR\",\n",
        "  \"Pennsylvania\": \"PA\",\n",
        "  \"Rhode Island\": \"RI\",\n",
        "  \"South Carolina\": \"SC\",\n",
        "  \"South Dakota\": \"SD\",\n",
        "  \"Tennessee\": \"TN\",\n",
        "  \"Texas\": \"TX\",\n",
        "  \"Utah\": \"UT\",\n",
        "  \"Vermont\": \"VT\",\n",
        "  \"Virginia\": \"VA\",\n",
        "  \"Washington\": \"WA\",\n",
        "  \"West Virginia\": \"WV\",\n",
        "  \"Wisconsin\": \"WI\",\n",
        "  \"Wyoming\": \"WY\"\n",
        "}\n"
      ],
      "metadata": {
        "id": "Lh2_YPBBY1ow"
      },
      "execution_count": 7,
      "outputs": []
    },
    {
      "cell_type": "markdown",
      "source": [
        "add abbreviation column to dataframe\n"
      ],
      "metadata": {
        "id": "nQWlmx2ncZHx"
      }
    },
    {
      "cell_type": "code",
      "source": [
        "df['Abbreviation']=df['State'].map(all_state_mapping)"
      ],
      "metadata": {
        "id": "izAFvBznacDc"
      },
      "execution_count": 8,
      "outputs": []
    },
    {
      "cell_type": "markdown",
      "source": [
        "group by state and add abbrebiation to sum of sales"
      ],
      "metadata": {
        "id": "4GdAAO-_ck4A"
      }
    },
    {
      "cell_type": "code",
      "source": [
        "sum_of_sales=df.groupby('State')['Sales'].sum().reset_index()\n",
        "sum_of_sales['Abbreviation']=sum_of_sales['State'].map(all_state_mapping)"
      ],
      "metadata": {
        "id": "wean_R6Ha2J5"
      },
      "execution_count": 9,
      "outputs": []
    },
    {
      "cell_type": "markdown",
      "source": [
        "creating choropleth map using plotly"
      ],
      "metadata": {
        "id": "ETP1sC1ycvlD"
      }
    },
    {
      "cell_type": "code",
      "source": [
        "fig=go.Figure(data=go.Choropleth(\n",
        "    locations=sum_of_sales['Abbreviation'],\n",
        "    locationmode='USA-states',\n",
        "    z=sum_of_sales['Sales'],\n",
        "    hoverinfo='location+z',\n",
        "    colorscale='Reds',\n",
        "    colorbar_title='Sales',\n",
        "    showscale=True\n",
        "))\n",
        "fig.update_geos(projection_type='albers usa')\n",
        "fig.update_layout(\n",
        "    geo_scope='usa',\n",
        "    title='Total sales by us state'\n",
        ")\n",
        "fig.show()"
      ],
      "metadata": {
        "colab": {
          "base_uri": "https://localhost:8080/",
          "height": 542
        },
        "id": "3gJuRM1hbcGK",
        "outputId": "6efd2df0-5bb7-4431-9875-0007ec3b1841"
      },
      "execution_count": 10,
      "outputs": [
        {
          "output_type": "display_data",
          "data": {
            "text/html": [
              "<html>\n",
              "<head><meta charset=\"utf-8\" /></head>\n",
              "<body>\n",
              "    <div>            <script src=\"https://cdnjs.cloudflare.com/ajax/libs/mathjax/2.7.5/MathJax.js?config=TeX-AMS-MML_SVG\"></script><script type=\"text/javascript\">if (window.MathJax && window.MathJax.Hub && window.MathJax.Hub.Config) {window.MathJax.Hub.Config({SVG: {font: \"STIX-Web\"}});}</script>                <script type=\"text/javascript\">window.PlotlyConfig = {MathJaxConfig: 'local'};</script>\n",
              "        <script charset=\"utf-8\" src=\"https://cdn.plot.ly/plotly-2.35.2.min.js\"></script>                <div id=\"f339e1e7-ae5b-4894-b19f-6d1cd4610ced\" class=\"plotly-graph-div\" style=\"height:525px; width:100%;\"></div>            <script type=\"text/javascript\">                                    window.PLOTLYENV=window.PLOTLYENV || {};                                    if (document.getElementById(\"f339e1e7-ae5b-4894-b19f-6d1cd4610ced\")) {                    Plotly.newPlot(                        \"f339e1e7-ae5b-4894-b19f-6d1cd4610ced\",                        [{\"colorbar\":{\"title\":{\"text\":\"Sales\"}},\"colorscale\":[[0.0,\"rgb(255,245,240)\"],[0.125,\"rgb(254,224,210)\"],[0.25,\"rgb(252,187,161)\"],[0.375,\"rgb(252,146,114)\"],[0.5,\"rgb(251,106,74)\"],[0.625,\"rgb(239,59,44)\"],[0.75,\"rgb(203,24,29)\"],[0.875,\"rgb(165,15,21)\"],[1.0,\"rgb(103,0,13)\"]],\"hoverinfo\":\"location+z\",\"locationmode\":\"USA-states\",\"locations\":[\"AL\",\"AZ\",\"AR\",\"CA\",\"CO\",\"CT\",\"DE\",null,\"FL\",\"GA\",\"ID\",\"IL\",\"IN\",\"IA\",\"KS\",\"KY\",\"LA\",\"ME\",\"MD\",\"MA\",\"MI\",\"MN\",\"MS\",\"MO\",\"MT\",\"NE\",\"NV\",\"NH\",\"NJ\",\"NM\",\"NY\",\"NC\",\"ND\",\"OH\",\"OK\",\"OR\",\"PA\",\"RI\",\"SC\",\"SD\",\"TN\",\"TX\",\"UT\",\"VT\",\"VA\",\"WA\",\"WV\",\"WI\",\"WY\"],\"showscale\":true,\"z\":[19510.64,35282.001,11678.13,457687.6315,32108.118000000002,13384.357,27451.069,2865.02,89473.708,49095.84,4382.486,80166.101,53555.36,4579.76,2914.31,36591.75,9217.03,1270.53,23705.523,28634.434,76269.614,29863.15,10771.34,22205.15,5589.352,7464.93,16729.102,7292.524,35764.312,4783.522,310876.271,55603.164,919.91,77976.764,19683.39,17431.15,116511.914,22627.956,8481.710000000001,1315.56,30661.873,170188.0458,11220.056,8929.369999999999,70636.72,138641.27,1209.824,32114.61,1603.136],\"type\":\"choropleth\"}],                        {\"template\":{\"data\":{\"histogram2dcontour\":[{\"type\":\"histogram2dcontour\",\"colorbar\":{\"outlinewidth\":0,\"ticks\":\"\"},\"colorscale\":[[0.0,\"#0d0887\"],[0.1111111111111111,\"#46039f\"],[0.2222222222222222,\"#7201a8\"],[0.3333333333333333,\"#9c179e\"],[0.4444444444444444,\"#bd3786\"],[0.5555555555555556,\"#d8576b\"],[0.6666666666666666,\"#ed7953\"],[0.7777777777777778,\"#fb9f3a\"],[0.8888888888888888,\"#fdca26\"],[1.0,\"#f0f921\"]]}],\"choropleth\":[{\"type\":\"choropleth\",\"colorbar\":{\"outlinewidth\":0,\"ticks\":\"\"}}],\"histogram2d\":[{\"type\":\"histogram2d\",\"colorbar\":{\"outlinewidth\":0,\"ticks\":\"\"},\"colorscale\":[[0.0,\"#0d0887\"],[0.1111111111111111,\"#46039f\"],[0.2222222222222222,\"#7201a8\"],[0.3333333333333333,\"#9c179e\"],[0.4444444444444444,\"#bd3786\"],[0.5555555555555556,\"#d8576b\"],[0.6666666666666666,\"#ed7953\"],[0.7777777777777778,\"#fb9f3a\"],[0.8888888888888888,\"#fdca26\"],[1.0,\"#f0f921\"]]}],\"heatmap\":[{\"type\":\"heatmap\",\"colorbar\":{\"outlinewidth\":0,\"ticks\":\"\"},\"colorscale\":[[0.0,\"#0d0887\"],[0.1111111111111111,\"#46039f\"],[0.2222222222222222,\"#7201a8\"],[0.3333333333333333,\"#9c179e\"],[0.4444444444444444,\"#bd3786\"],[0.5555555555555556,\"#d8576b\"],[0.6666666666666666,\"#ed7953\"],[0.7777777777777778,\"#fb9f3a\"],[0.8888888888888888,\"#fdca26\"],[1.0,\"#f0f921\"]]}],\"heatmapgl\":[{\"type\":\"heatmapgl\",\"colorbar\":{\"outlinewidth\":0,\"ticks\":\"\"},\"colorscale\":[[0.0,\"#0d0887\"],[0.1111111111111111,\"#46039f\"],[0.2222222222222222,\"#7201a8\"],[0.3333333333333333,\"#9c179e\"],[0.4444444444444444,\"#bd3786\"],[0.5555555555555556,\"#d8576b\"],[0.6666666666666666,\"#ed7953\"],[0.7777777777777778,\"#fb9f3a\"],[0.8888888888888888,\"#fdca26\"],[1.0,\"#f0f921\"]]}],\"contourcarpet\":[{\"type\":\"contourcarpet\",\"colorbar\":{\"outlinewidth\":0,\"ticks\":\"\"}}],\"contour\":[{\"type\":\"contour\",\"colorbar\":{\"outlinewidth\":0,\"ticks\":\"\"},\"colorscale\":[[0.0,\"#0d0887\"],[0.1111111111111111,\"#46039f\"],[0.2222222222222222,\"#7201a8\"],[0.3333333333333333,\"#9c179e\"],[0.4444444444444444,\"#bd3786\"],[0.5555555555555556,\"#d8576b\"],[0.6666666666666666,\"#ed7953\"],[0.7777777777777778,\"#fb9f3a\"],[0.8888888888888888,\"#fdca26\"],[1.0,\"#f0f921\"]]}],\"surface\":[{\"type\":\"surface\",\"colorbar\":{\"outlinewidth\":0,\"ticks\":\"\"},\"colorscale\":[[0.0,\"#0d0887\"],[0.1111111111111111,\"#46039f\"],[0.2222222222222222,\"#7201a8\"],[0.3333333333333333,\"#9c179e\"],[0.4444444444444444,\"#bd3786\"],[0.5555555555555556,\"#d8576b\"],[0.6666666666666666,\"#ed7953\"],[0.7777777777777778,\"#fb9f3a\"],[0.8888888888888888,\"#fdca26\"],[1.0,\"#f0f921\"]]}],\"mesh3d\":[{\"type\":\"mesh3d\",\"colorbar\":{\"outlinewidth\":0,\"ticks\":\"\"}}],\"scatter\":[{\"fillpattern\":{\"fillmode\":\"overlay\",\"size\":10,\"solidity\":0.2},\"type\":\"scatter\"}],\"parcoords\":[{\"type\":\"parcoords\",\"line\":{\"colorbar\":{\"outlinewidth\":0,\"ticks\":\"\"}}}],\"scatterpolargl\":[{\"type\":\"scatterpolargl\",\"marker\":{\"colorbar\":{\"outlinewidth\":0,\"ticks\":\"\"}}}],\"bar\":[{\"error_x\":{\"color\":\"#2a3f5f\"},\"error_y\":{\"color\":\"#2a3f5f\"},\"marker\":{\"line\":{\"color\":\"#E5ECF6\",\"width\":0.5},\"pattern\":{\"fillmode\":\"overlay\",\"size\":10,\"solidity\":0.2}},\"type\":\"bar\"}],\"scattergeo\":[{\"type\":\"scattergeo\",\"marker\":{\"colorbar\":{\"outlinewidth\":0,\"ticks\":\"\"}}}],\"scatterpolar\":[{\"type\":\"scatterpolar\",\"marker\":{\"colorbar\":{\"outlinewidth\":0,\"ticks\":\"\"}}}],\"histogram\":[{\"marker\":{\"pattern\":{\"fillmode\":\"overlay\",\"size\":10,\"solidity\":0.2}},\"type\":\"histogram\"}],\"scattergl\":[{\"type\":\"scattergl\",\"marker\":{\"colorbar\":{\"outlinewidth\":0,\"ticks\":\"\"}}}],\"scatter3d\":[{\"type\":\"scatter3d\",\"line\":{\"colorbar\":{\"outlinewidth\":0,\"ticks\":\"\"}},\"marker\":{\"colorbar\":{\"outlinewidth\":0,\"ticks\":\"\"}}}],\"scattermapbox\":[{\"type\":\"scattermapbox\",\"marker\":{\"colorbar\":{\"outlinewidth\":0,\"ticks\":\"\"}}}],\"scatterternary\":[{\"type\":\"scatterternary\",\"marker\":{\"colorbar\":{\"outlinewidth\":0,\"ticks\":\"\"}}}],\"scattercarpet\":[{\"type\":\"scattercarpet\",\"marker\":{\"colorbar\":{\"outlinewidth\":0,\"ticks\":\"\"}}}],\"carpet\":[{\"aaxis\":{\"endlinecolor\":\"#2a3f5f\",\"gridcolor\":\"white\",\"linecolor\":\"white\",\"minorgridcolor\":\"white\",\"startlinecolor\":\"#2a3f5f\"},\"baxis\":{\"endlinecolor\":\"#2a3f5f\",\"gridcolor\":\"white\",\"linecolor\":\"white\",\"minorgridcolor\":\"white\",\"startlinecolor\":\"#2a3f5f\"},\"type\":\"carpet\"}],\"table\":[{\"cells\":{\"fill\":{\"color\":\"#EBF0F8\"},\"line\":{\"color\":\"white\"}},\"header\":{\"fill\":{\"color\":\"#C8D4E3\"},\"line\":{\"color\":\"white\"}},\"type\":\"table\"}],\"barpolar\":[{\"marker\":{\"line\":{\"color\":\"#E5ECF6\",\"width\":0.5},\"pattern\":{\"fillmode\":\"overlay\",\"size\":10,\"solidity\":0.2}},\"type\":\"barpolar\"}],\"pie\":[{\"automargin\":true,\"type\":\"pie\"}]},\"layout\":{\"autotypenumbers\":\"strict\",\"colorway\":[\"#636efa\",\"#EF553B\",\"#00cc96\",\"#ab63fa\",\"#FFA15A\",\"#19d3f3\",\"#FF6692\",\"#B6E880\",\"#FF97FF\",\"#FECB52\"],\"font\":{\"color\":\"#2a3f5f\"},\"hovermode\":\"closest\",\"hoverlabel\":{\"align\":\"left\"},\"paper_bgcolor\":\"white\",\"plot_bgcolor\":\"#E5ECF6\",\"polar\":{\"bgcolor\":\"#E5ECF6\",\"angularaxis\":{\"gridcolor\":\"white\",\"linecolor\":\"white\",\"ticks\":\"\"},\"radialaxis\":{\"gridcolor\":\"white\",\"linecolor\":\"white\",\"ticks\":\"\"}},\"ternary\":{\"bgcolor\":\"#E5ECF6\",\"aaxis\":{\"gridcolor\":\"white\",\"linecolor\":\"white\",\"ticks\":\"\"},\"baxis\":{\"gridcolor\":\"white\",\"linecolor\":\"white\",\"ticks\":\"\"},\"caxis\":{\"gridcolor\":\"white\",\"linecolor\":\"white\",\"ticks\":\"\"}},\"coloraxis\":{\"colorbar\":{\"outlinewidth\":0,\"ticks\":\"\"}},\"colorscale\":{\"sequential\":[[0.0,\"#0d0887\"],[0.1111111111111111,\"#46039f\"],[0.2222222222222222,\"#7201a8\"],[0.3333333333333333,\"#9c179e\"],[0.4444444444444444,\"#bd3786\"],[0.5555555555555556,\"#d8576b\"],[0.6666666666666666,\"#ed7953\"],[0.7777777777777778,\"#fb9f3a\"],[0.8888888888888888,\"#fdca26\"],[1.0,\"#f0f921\"]],\"sequentialminus\":[[0.0,\"#0d0887\"],[0.1111111111111111,\"#46039f\"],[0.2222222222222222,\"#7201a8\"],[0.3333333333333333,\"#9c179e\"],[0.4444444444444444,\"#bd3786\"],[0.5555555555555556,\"#d8576b\"],[0.6666666666666666,\"#ed7953\"],[0.7777777777777778,\"#fb9f3a\"],[0.8888888888888888,\"#fdca26\"],[1.0,\"#f0f921\"]],\"diverging\":[[0,\"#8e0152\"],[0.1,\"#c51b7d\"],[0.2,\"#de77ae\"],[0.3,\"#f1b6da\"],[0.4,\"#fde0ef\"],[0.5,\"#f7f7f7\"],[0.6,\"#e6f5d0\"],[0.7,\"#b8e186\"],[0.8,\"#7fbc41\"],[0.9,\"#4d9221\"],[1,\"#276419\"]]},\"xaxis\":{\"gridcolor\":\"white\",\"linecolor\":\"white\",\"ticks\":\"\",\"title\":{\"standoff\":15},\"zerolinecolor\":\"white\",\"automargin\":true,\"zerolinewidth\":2},\"yaxis\":{\"gridcolor\":\"white\",\"linecolor\":\"white\",\"ticks\":\"\",\"title\":{\"standoff\":15},\"zerolinecolor\":\"white\",\"automargin\":true,\"zerolinewidth\":2},\"scene\":{\"xaxis\":{\"backgroundcolor\":\"#E5ECF6\",\"gridcolor\":\"white\",\"linecolor\":\"white\",\"showbackground\":true,\"ticks\":\"\",\"zerolinecolor\":\"white\",\"gridwidth\":2},\"yaxis\":{\"backgroundcolor\":\"#E5ECF6\",\"gridcolor\":\"white\",\"linecolor\":\"white\",\"showbackground\":true,\"ticks\":\"\",\"zerolinecolor\":\"white\",\"gridwidth\":2},\"zaxis\":{\"backgroundcolor\":\"#E5ECF6\",\"gridcolor\":\"white\",\"linecolor\":\"white\",\"showbackground\":true,\"ticks\":\"\",\"zerolinecolor\":\"white\",\"gridwidth\":2}},\"shapedefaults\":{\"line\":{\"color\":\"#2a3f5f\"}},\"annotationdefaults\":{\"arrowcolor\":\"#2a3f5f\",\"arrowhead\":0,\"arrowwidth\":1},\"geo\":{\"bgcolor\":\"white\",\"landcolor\":\"#E5ECF6\",\"subunitcolor\":\"white\",\"showland\":true,\"showlakes\":true,\"lakecolor\":\"white\"},\"title\":{\"x\":0.05},\"mapbox\":{\"style\":\"light\"}}},\"geo\":{\"projection\":{\"type\":\"albers usa\"},\"scope\":\"usa\"},\"title\":{\"text\":\"Total sales by us state\"}},                        {\"responsive\": true}                    ).then(function(){\n",
              "                            \n",
              "var gd = document.getElementById('f339e1e7-ae5b-4894-b19f-6d1cd4610ced');\n",
              "var x = new MutationObserver(function (mutations, observer) {{\n",
              "        var display = window.getComputedStyle(gd).display;\n",
              "        if (!display || display === 'none') {{\n",
              "            console.log([gd, 'removed!']);\n",
              "            Plotly.purge(gd);\n",
              "            observer.disconnect();\n",
              "        }}\n",
              "}});\n",
              "\n",
              "// Listen for the removal of the full notebook cells\n",
              "var notebookContainer = gd.closest('#notebook-container');\n",
              "if (notebookContainer) {{\n",
              "    x.observe(notebookContainer, {childList: true});\n",
              "}}\n",
              "\n",
              "// Listen for the clearing of the current output cell\n",
              "var outputEl = gd.closest('.output');\n",
              "if (outputEl) {{\n",
              "    x.observe(outputEl, {childList: true});\n",
              "}}\n",
              "\n",
              "                        })                };                            </script>        </div>\n",
              "</body>\n",
              "</html>"
            ]
          },
          "metadata": {}
        }
      ]
    },
    {
      "cell_type": "markdown",
      "source": [
        "nested pie chart"
      ],
      "metadata": {
        "id": "WzRQj3difKap"
      }
    },
    {
      "cell_type": "code",
      "source": [
        "df_summery=df.groupby(['Category','Sub-Category'])['Sales'].sum().reset_index()\n",
        "fig=px.sunburst(df_summery,path=['Category','Sub-Category'],values='Sales')\n",
        "fig.show()"
      ],
      "metadata": {
        "colab": {
          "base_uri": "https://localhost:8080/",
          "height": 542
        },
        "id": "G77OkR9efIHe",
        "outputId": "e4010f50-631a-443b-ae45-e3b4ce0b813e"
      },
      "execution_count": 11,
      "outputs": [
        {
          "output_type": "display_data",
          "data": {
            "text/html": [
              "<html>\n",
              "<head><meta charset=\"utf-8\" /></head>\n",
              "<body>\n",
              "    <div>            <script src=\"https://cdnjs.cloudflare.com/ajax/libs/mathjax/2.7.5/MathJax.js?config=TeX-AMS-MML_SVG\"></script><script type=\"text/javascript\">if (window.MathJax && window.MathJax.Hub && window.MathJax.Hub.Config) {window.MathJax.Hub.Config({SVG: {font: \"STIX-Web\"}});}</script>                <script type=\"text/javascript\">window.PlotlyConfig = {MathJaxConfig: 'local'};</script>\n",
              "        <script charset=\"utf-8\" src=\"https://cdn.plot.ly/plotly-2.35.2.min.js\"></script>                <div id=\"8dc0f0b5-197b-4e6f-a28a-b1f673aa7f66\" class=\"plotly-graph-div\" style=\"height:525px; width:100%;\"></div>            <script type=\"text/javascript\">                                    window.PLOTLYENV=window.PLOTLYENV || {};                                    if (document.getElementById(\"8dc0f0b5-197b-4e6f-a28a-b1f673aa7f66\")) {                    Plotly.newPlot(                        \"8dc0f0b5-197b-4e6f-a28a-b1f673aa7f66\",                        [{\"branchvalues\":\"total\",\"domain\":{\"x\":[0.0,1.0],\"y\":[0.0,1.0]},\"hovertemplate\":\"labels=%{label}\\u003cbr\\u003eSales=%{value}\\u003cbr\\u003eparent=%{parent}\\u003cbr\\u003eid=%{id}\\u003cextra\\u003e\\u003c\\u002fextra\\u003e\",\"ids\":[\"Technology\\u002fAccessories\",\"Office Supplies\\u002fAppliances\",\"Office Supplies\\u002fArt\",\"Office Supplies\\u002fBinders\",\"Furniture\\u002fBookcases\",\"Furniture\\u002fChairs\",\"Technology\\u002fCopiers\",\"Office Supplies\\u002fEnvelopes\",\"Office Supplies\\u002fFasteners\",\"Furniture\\u002fFurnishings\",\"Office Supplies\\u002fLabels\",\"Technology\\u002fMachines\",\"Office Supplies\\u002fPaper\",\"Technology\\u002fPhones\",\"Office Supplies\\u002fStorage\",\"Office Supplies\\u002fSupplies\",\"Furniture\\u002fTables\",\"Furniture\",\"Office Supplies\",\"Technology\"],\"labels\":[\"Accessories\",\"Appliances\",\"Art\",\"Binders\",\"Bookcases\",\"Chairs\",\"Copiers\",\"Envelopes\",\"Fasteners\",\"Furnishings\",\"Labels\",\"Machines\",\"Paper\",\"Phones\",\"Storage\",\"Supplies\",\"Tables\",\"Furniture\",\"Office Supplies\",\"Technology\"],\"name\":\"\",\"parents\":[\"Technology\",\"Office Supplies\",\"Office Supplies\",\"Office Supplies\",\"Furniture\",\"Furniture\",\"Technology\",\"Office Supplies\",\"Office Supplies\",\"Furniture\",\"Office Supplies\",\"Technology\",\"Office Supplies\",\"Technology\",\"Office Supplies\",\"Office Supplies\",\"Furniture\",\"\",\"\",\"\"],\"values\":[167380.318,107532.161,27118.792,203412.733,114879.9963,328167.731,149528.03,16476.402,3024.28,91705.164,12486.312,189238.631,78479.206,330007.054,223843.608,46673.538,206965.532,741718.4233,719047.032,836154.033],\"type\":\"sunburst\"}],                        {\"template\":{\"data\":{\"histogram2dcontour\":[{\"type\":\"histogram2dcontour\",\"colorbar\":{\"outlinewidth\":0,\"ticks\":\"\"},\"colorscale\":[[0.0,\"#0d0887\"],[0.1111111111111111,\"#46039f\"],[0.2222222222222222,\"#7201a8\"],[0.3333333333333333,\"#9c179e\"],[0.4444444444444444,\"#bd3786\"],[0.5555555555555556,\"#d8576b\"],[0.6666666666666666,\"#ed7953\"],[0.7777777777777778,\"#fb9f3a\"],[0.8888888888888888,\"#fdca26\"],[1.0,\"#f0f921\"]]}],\"choropleth\":[{\"type\":\"choropleth\",\"colorbar\":{\"outlinewidth\":0,\"ticks\":\"\"}}],\"histogram2d\":[{\"type\":\"histogram2d\",\"colorbar\":{\"outlinewidth\":0,\"ticks\":\"\"},\"colorscale\":[[0.0,\"#0d0887\"],[0.1111111111111111,\"#46039f\"],[0.2222222222222222,\"#7201a8\"],[0.3333333333333333,\"#9c179e\"],[0.4444444444444444,\"#bd3786\"],[0.5555555555555556,\"#d8576b\"],[0.6666666666666666,\"#ed7953\"],[0.7777777777777778,\"#fb9f3a\"],[0.8888888888888888,\"#fdca26\"],[1.0,\"#f0f921\"]]}],\"heatmap\":[{\"type\":\"heatmap\",\"colorbar\":{\"outlinewidth\":0,\"ticks\":\"\"},\"colorscale\":[[0.0,\"#0d0887\"],[0.1111111111111111,\"#46039f\"],[0.2222222222222222,\"#7201a8\"],[0.3333333333333333,\"#9c179e\"],[0.4444444444444444,\"#bd3786\"],[0.5555555555555556,\"#d8576b\"],[0.6666666666666666,\"#ed7953\"],[0.7777777777777778,\"#fb9f3a\"],[0.8888888888888888,\"#fdca26\"],[1.0,\"#f0f921\"]]}],\"heatmapgl\":[{\"type\":\"heatmapgl\",\"colorbar\":{\"outlinewidth\":0,\"ticks\":\"\"},\"colorscale\":[[0.0,\"#0d0887\"],[0.1111111111111111,\"#46039f\"],[0.2222222222222222,\"#7201a8\"],[0.3333333333333333,\"#9c179e\"],[0.4444444444444444,\"#bd3786\"],[0.5555555555555556,\"#d8576b\"],[0.6666666666666666,\"#ed7953\"],[0.7777777777777778,\"#fb9f3a\"],[0.8888888888888888,\"#fdca26\"],[1.0,\"#f0f921\"]]}],\"contourcarpet\":[{\"type\":\"contourcarpet\",\"colorbar\":{\"outlinewidth\":0,\"ticks\":\"\"}}],\"contour\":[{\"type\":\"contour\",\"colorbar\":{\"outlinewidth\":0,\"ticks\":\"\"},\"colorscale\":[[0.0,\"#0d0887\"],[0.1111111111111111,\"#46039f\"],[0.2222222222222222,\"#7201a8\"],[0.3333333333333333,\"#9c179e\"],[0.4444444444444444,\"#bd3786\"],[0.5555555555555556,\"#d8576b\"],[0.6666666666666666,\"#ed7953\"],[0.7777777777777778,\"#fb9f3a\"],[0.8888888888888888,\"#fdca26\"],[1.0,\"#f0f921\"]]}],\"surface\":[{\"type\":\"surface\",\"colorbar\":{\"outlinewidth\":0,\"ticks\":\"\"},\"colorscale\":[[0.0,\"#0d0887\"],[0.1111111111111111,\"#46039f\"],[0.2222222222222222,\"#7201a8\"],[0.3333333333333333,\"#9c179e\"],[0.4444444444444444,\"#bd3786\"],[0.5555555555555556,\"#d8576b\"],[0.6666666666666666,\"#ed7953\"],[0.7777777777777778,\"#fb9f3a\"],[0.8888888888888888,\"#fdca26\"],[1.0,\"#f0f921\"]]}],\"mesh3d\":[{\"type\":\"mesh3d\",\"colorbar\":{\"outlinewidth\":0,\"ticks\":\"\"}}],\"scatter\":[{\"fillpattern\":{\"fillmode\":\"overlay\",\"size\":10,\"solidity\":0.2},\"type\":\"scatter\"}],\"parcoords\":[{\"type\":\"parcoords\",\"line\":{\"colorbar\":{\"outlinewidth\":0,\"ticks\":\"\"}}}],\"scatterpolargl\":[{\"type\":\"scatterpolargl\",\"marker\":{\"colorbar\":{\"outlinewidth\":0,\"ticks\":\"\"}}}],\"bar\":[{\"error_x\":{\"color\":\"#2a3f5f\"},\"error_y\":{\"color\":\"#2a3f5f\"},\"marker\":{\"line\":{\"color\":\"#E5ECF6\",\"width\":0.5},\"pattern\":{\"fillmode\":\"overlay\",\"size\":10,\"solidity\":0.2}},\"type\":\"bar\"}],\"scattergeo\":[{\"type\":\"scattergeo\",\"marker\":{\"colorbar\":{\"outlinewidth\":0,\"ticks\":\"\"}}}],\"scatterpolar\":[{\"type\":\"scatterpolar\",\"marker\":{\"colorbar\":{\"outlinewidth\":0,\"ticks\":\"\"}}}],\"histogram\":[{\"marker\":{\"pattern\":{\"fillmode\":\"overlay\",\"size\":10,\"solidity\":0.2}},\"type\":\"histogram\"}],\"scattergl\":[{\"type\":\"scattergl\",\"marker\":{\"colorbar\":{\"outlinewidth\":0,\"ticks\":\"\"}}}],\"scatter3d\":[{\"type\":\"scatter3d\",\"line\":{\"colorbar\":{\"outlinewidth\":0,\"ticks\":\"\"}},\"marker\":{\"colorbar\":{\"outlinewidth\":0,\"ticks\":\"\"}}}],\"scattermapbox\":[{\"type\":\"scattermapbox\",\"marker\":{\"colorbar\":{\"outlinewidth\":0,\"ticks\":\"\"}}}],\"scatterternary\":[{\"type\":\"scatterternary\",\"marker\":{\"colorbar\":{\"outlinewidth\":0,\"ticks\":\"\"}}}],\"scattercarpet\":[{\"type\":\"scattercarpet\",\"marker\":{\"colorbar\":{\"outlinewidth\":0,\"ticks\":\"\"}}}],\"carpet\":[{\"aaxis\":{\"endlinecolor\":\"#2a3f5f\",\"gridcolor\":\"white\",\"linecolor\":\"white\",\"minorgridcolor\":\"white\",\"startlinecolor\":\"#2a3f5f\"},\"baxis\":{\"endlinecolor\":\"#2a3f5f\",\"gridcolor\":\"white\",\"linecolor\":\"white\",\"minorgridcolor\":\"white\",\"startlinecolor\":\"#2a3f5f\"},\"type\":\"carpet\"}],\"table\":[{\"cells\":{\"fill\":{\"color\":\"#EBF0F8\"},\"line\":{\"color\":\"white\"}},\"header\":{\"fill\":{\"color\":\"#C8D4E3\"},\"line\":{\"color\":\"white\"}},\"type\":\"table\"}],\"barpolar\":[{\"marker\":{\"line\":{\"color\":\"#E5ECF6\",\"width\":0.5},\"pattern\":{\"fillmode\":\"overlay\",\"size\":10,\"solidity\":0.2}},\"type\":\"barpolar\"}],\"pie\":[{\"automargin\":true,\"type\":\"pie\"}]},\"layout\":{\"autotypenumbers\":\"strict\",\"colorway\":[\"#636efa\",\"#EF553B\",\"#00cc96\",\"#ab63fa\",\"#FFA15A\",\"#19d3f3\",\"#FF6692\",\"#B6E880\",\"#FF97FF\",\"#FECB52\"],\"font\":{\"color\":\"#2a3f5f\"},\"hovermode\":\"closest\",\"hoverlabel\":{\"align\":\"left\"},\"paper_bgcolor\":\"white\",\"plot_bgcolor\":\"#E5ECF6\",\"polar\":{\"bgcolor\":\"#E5ECF6\",\"angularaxis\":{\"gridcolor\":\"white\",\"linecolor\":\"white\",\"ticks\":\"\"},\"radialaxis\":{\"gridcolor\":\"white\",\"linecolor\":\"white\",\"ticks\":\"\"}},\"ternary\":{\"bgcolor\":\"#E5ECF6\",\"aaxis\":{\"gridcolor\":\"white\",\"linecolor\":\"white\",\"ticks\":\"\"},\"baxis\":{\"gridcolor\":\"white\",\"linecolor\":\"white\",\"ticks\":\"\"},\"caxis\":{\"gridcolor\":\"white\",\"linecolor\":\"white\",\"ticks\":\"\"}},\"coloraxis\":{\"colorbar\":{\"outlinewidth\":0,\"ticks\":\"\"}},\"colorscale\":{\"sequential\":[[0.0,\"#0d0887\"],[0.1111111111111111,\"#46039f\"],[0.2222222222222222,\"#7201a8\"],[0.3333333333333333,\"#9c179e\"],[0.4444444444444444,\"#bd3786\"],[0.5555555555555556,\"#d8576b\"],[0.6666666666666666,\"#ed7953\"],[0.7777777777777778,\"#fb9f3a\"],[0.8888888888888888,\"#fdca26\"],[1.0,\"#f0f921\"]],\"sequentialminus\":[[0.0,\"#0d0887\"],[0.1111111111111111,\"#46039f\"],[0.2222222222222222,\"#7201a8\"],[0.3333333333333333,\"#9c179e\"],[0.4444444444444444,\"#bd3786\"],[0.5555555555555556,\"#d8576b\"],[0.6666666666666666,\"#ed7953\"],[0.7777777777777778,\"#fb9f3a\"],[0.8888888888888888,\"#fdca26\"],[1.0,\"#f0f921\"]],\"diverging\":[[0,\"#8e0152\"],[0.1,\"#c51b7d\"],[0.2,\"#de77ae\"],[0.3,\"#f1b6da\"],[0.4,\"#fde0ef\"],[0.5,\"#f7f7f7\"],[0.6,\"#e6f5d0\"],[0.7,\"#b8e186\"],[0.8,\"#7fbc41\"],[0.9,\"#4d9221\"],[1,\"#276419\"]]},\"xaxis\":{\"gridcolor\":\"white\",\"linecolor\":\"white\",\"ticks\":\"\",\"title\":{\"standoff\":15},\"zerolinecolor\":\"white\",\"automargin\":true,\"zerolinewidth\":2},\"yaxis\":{\"gridcolor\":\"white\",\"linecolor\":\"white\",\"ticks\":\"\",\"title\":{\"standoff\":15},\"zerolinecolor\":\"white\",\"automargin\":true,\"zerolinewidth\":2},\"scene\":{\"xaxis\":{\"backgroundcolor\":\"#E5ECF6\",\"gridcolor\":\"white\",\"linecolor\":\"white\",\"showbackground\":true,\"ticks\":\"\",\"zerolinecolor\":\"white\",\"gridwidth\":2},\"yaxis\":{\"backgroundcolor\":\"#E5ECF6\",\"gridcolor\":\"white\",\"linecolor\":\"white\",\"showbackground\":true,\"ticks\":\"\",\"zerolinecolor\":\"white\",\"gridwidth\":2},\"zaxis\":{\"backgroundcolor\":\"#E5ECF6\",\"gridcolor\":\"white\",\"linecolor\":\"white\",\"showbackground\":true,\"ticks\":\"\",\"zerolinecolor\":\"white\",\"gridwidth\":2}},\"shapedefaults\":{\"line\":{\"color\":\"#2a3f5f\"}},\"annotationdefaults\":{\"arrowcolor\":\"#2a3f5f\",\"arrowhead\":0,\"arrowwidth\":1},\"geo\":{\"bgcolor\":\"white\",\"landcolor\":\"#E5ECF6\",\"subunitcolor\":\"white\",\"showland\":true,\"showlakes\":true,\"lakecolor\":\"white\"},\"title\":{\"x\":0.05},\"mapbox\":{\"style\":\"light\"}}},\"legend\":{\"tracegroupgap\":0},\"margin\":{\"t\":60}},                        {\"responsive\": true}                    ).then(function(){\n",
              "                            \n",
              "var gd = document.getElementById('8dc0f0b5-197b-4e6f-a28a-b1f673aa7f66');\n",
              "var x = new MutationObserver(function (mutations, observer) {{\n",
              "        var display = window.getComputedStyle(gd).display;\n",
              "        if (!display || display === 'none') {{\n",
              "            console.log([gd, 'removed!']);\n",
              "            Plotly.purge(gd);\n",
              "            observer.disconnect();\n",
              "        }}\n",
              "}});\n",
              "\n",
              "// Listen for the removal of the full notebook cells\n",
              "var notebookContainer = gd.closest('#notebook-container');\n",
              "if (notebookContainer) {{\n",
              "    x.observe(notebookContainer, {childList: true});\n",
              "}}\n",
              "\n",
              "// Listen for the clearing of the current output cell\n",
              "var outputEl = gd.closest('.output');\n",
              "if (outputEl) {{\n",
              "    x.observe(outputEl, {childList: true});\n",
              "}}\n",
              "\n",
              "                        })                };                            </script>        </div>\n",
              "</body>\n",
              "</html>"
            ]
          },
          "metadata": {}
        }
      ]
    },
    {
      "cell_type": "markdown",
      "source": [
        "tree map"
      ],
      "metadata": {
        "id": "tMygovgsgeY1"
      }
    },
    {
      "cell_type": "code",
      "source": [
        "df_summery=df.groupby(['Category','Ship Mode','Sub-Category'])['Sales'].sum().reset_index()\n",
        "fig=px.treemap(df_summery,path=['Category','Ship Mode','Sub-Category'],values='Sales')\n",
        "fig.show()"
      ],
      "metadata": {
        "colab": {
          "base_uri": "https://localhost:8080/",
          "height": 542
        },
        "id": "tXqNLiPKgg24",
        "outputId": "441d66fe-3cbf-4cb7-e7a8-5150eee303f4"
      },
      "execution_count": 14,
      "outputs": [
        {
          "output_type": "display_data",
          "data": {
            "text/html": [
              "<html>\n",
              "<head><meta charset=\"utf-8\" /></head>\n",
              "<body>\n",
              "    <div>            <script src=\"https://cdnjs.cloudflare.com/ajax/libs/mathjax/2.7.5/MathJax.js?config=TeX-AMS-MML_SVG\"></script><script type=\"text/javascript\">if (window.MathJax && window.MathJax.Hub && window.MathJax.Hub.Config) {window.MathJax.Hub.Config({SVG: {font: \"STIX-Web\"}});}</script>                <script type=\"text/javascript\">window.PlotlyConfig = {MathJaxConfig: 'local'};</script>\n",
              "        <script charset=\"utf-8\" src=\"https://cdn.plot.ly/plotly-2.35.2.min.js\"></script>                <div id=\"e4b54f8a-ff80-4ce7-a96b-b2b181aaf610\" class=\"plotly-graph-div\" style=\"height:525px; width:100%;\"></div>            <script type=\"text/javascript\">                                    window.PLOTLYENV=window.PLOTLYENV || {};                                    if (document.getElementById(\"e4b54f8a-ff80-4ce7-a96b-b2b181aaf610\")) {                    Plotly.newPlot(                        \"e4b54f8a-ff80-4ce7-a96b-b2b181aaf610\",                        [{\"branchvalues\":\"total\",\"domain\":{\"x\":[0.0,1.0],\"y\":[0.0,1.0]},\"hovertemplate\":\"labels=%{label}\\u003cbr\\u003eSales=%{value}\\u003cbr\\u003eparent=%{parent}\\u003cbr\\u003eid=%{id}\\u003cextra\\u003e\\u003c\\u002fextra\\u003e\",\"ids\":[\"Technology\\u002fFirst Class\\u002fAccessories\",\"Technology\\u002fSame Day\\u002fAccessories\",\"Technology\\u002fSecond Class\\u002fAccessories\",\"Technology\\u002fStandard Class\\u002fAccessories\",\"Office Supplies\\u002fFirst Class\\u002fAppliances\",\"Office Supplies\\u002fSame Day\\u002fAppliances\",\"Office Supplies\\u002fSecond Class\\u002fAppliances\",\"Office Supplies\\u002fStandard Class\\u002fAppliances\",\"Office Supplies\\u002fFirst Class\\u002fArt\",\"Office Supplies\\u002fSame Day\\u002fArt\",\"Office Supplies\\u002fSecond Class\\u002fArt\",\"Office Supplies\\u002fStandard Class\\u002fArt\",\"Office Supplies\\u002fFirst Class\\u002fBinders\",\"Office Supplies\\u002fSame Day\\u002fBinders\",\"Office Supplies\\u002fSecond Class\\u002fBinders\",\"Office Supplies\\u002fStandard Class\\u002fBinders\",\"Furniture\\u002fFirst Class\\u002fBookcases\",\"Furniture\\u002fSame Day\\u002fBookcases\",\"Furniture\\u002fSecond Class\\u002fBookcases\",\"Furniture\\u002fStandard Class\\u002fBookcases\",\"Furniture\\u002fFirst Class\\u002fChairs\",\"Furniture\\u002fSame Day\\u002fChairs\",\"Furniture\\u002fSecond Class\\u002fChairs\",\"Furniture\\u002fStandard Class\\u002fChairs\",\"Technology\\u002fFirst Class\\u002fCopiers\",\"Technology\\u002fSame Day\\u002fCopiers\",\"Technology\\u002fSecond Class\\u002fCopiers\",\"Technology\\u002fStandard Class\\u002fCopiers\",\"Office Supplies\\u002fFirst Class\\u002fEnvelopes\",\"Office Supplies\\u002fSame Day\\u002fEnvelopes\",\"Office Supplies\\u002fSecond Class\\u002fEnvelopes\",\"Office Supplies\\u002fStandard Class\\u002fEnvelopes\",\"Office Supplies\\u002fFirst Class\\u002fFasteners\",\"Office Supplies\\u002fSame Day\\u002fFasteners\",\"Office Supplies\\u002fSecond Class\\u002fFasteners\",\"Office Supplies\\u002fStandard Class\\u002fFasteners\",\"Furniture\\u002fFirst Class\\u002fFurnishings\",\"Furniture\\u002fSame Day\\u002fFurnishings\",\"Furniture\\u002fSecond Class\\u002fFurnishings\",\"Furniture\\u002fStandard Class\\u002fFurnishings\",\"Office Supplies\\u002fFirst Class\\u002fLabels\",\"Office Supplies\\u002fSame Day\\u002fLabels\",\"Office Supplies\\u002fSecond Class\\u002fLabels\",\"Office Supplies\\u002fStandard Class\\u002fLabels\",\"Technology\\u002fFirst Class\\u002fMachines\",\"Technology\\u002fSame Day\\u002fMachines\",\"Technology\\u002fSecond Class\\u002fMachines\",\"Technology\\u002fStandard Class\\u002fMachines\",\"Office Supplies\\u002fFirst Class\\u002fPaper\",\"Office Supplies\\u002fSame Day\\u002fPaper\",\"Office Supplies\\u002fSecond Class\\u002fPaper\",\"Office Supplies\\u002fStandard Class\\u002fPaper\",\"Technology\\u002fFirst Class\\u002fPhones\",\"Technology\\u002fSame Day\\u002fPhones\",\"Technology\\u002fSecond Class\\u002fPhones\",\"Technology\\u002fStandard Class\\u002fPhones\",\"Office Supplies\\u002fFirst Class\\u002fStorage\",\"Office Supplies\\u002fSame Day\\u002fStorage\",\"Office Supplies\\u002fSecond Class\\u002fStorage\",\"Office Supplies\\u002fStandard Class\\u002fStorage\",\"Office Supplies\\u002fFirst Class\\u002fSupplies\",\"Office Supplies\\u002fSame Day\\u002fSupplies\",\"Office Supplies\\u002fSecond Class\\u002fSupplies\",\"Office Supplies\\u002fStandard Class\\u002fSupplies\",\"Furniture\\u002fFirst Class\\u002fTables\",\"Furniture\\u002fSame Day\\u002fTables\",\"Furniture\\u002fSecond Class\\u002fTables\",\"Furniture\\u002fStandard Class\\u002fTables\",\"Furniture\\u002fFirst Class\",\"Office Supplies\\u002fFirst Class\",\"Technology\\u002fFirst Class\",\"Furniture\\u002fSame Day\",\"Office Supplies\\u002fSame Day\",\"Technology\\u002fSame Day\",\"Furniture\\u002fSecond Class\",\"Office Supplies\\u002fSecond Class\",\"Technology\\u002fSecond Class\",\"Furniture\\u002fStandard Class\",\"Office Supplies\\u002fStandard Class\",\"Technology\\u002fStandard Class\",\"Furniture\",\"Office Supplies\",\"Technology\"],\"labels\":[\"Accessories\",\"Accessories\",\"Accessories\",\"Accessories\",\"Appliances\",\"Appliances\",\"Appliances\",\"Appliances\",\"Art\",\"Art\",\"Art\",\"Art\",\"Binders\",\"Binders\",\"Binders\",\"Binders\",\"Bookcases\",\"Bookcases\",\"Bookcases\",\"Bookcases\",\"Chairs\",\"Chairs\",\"Chairs\",\"Chairs\",\"Copiers\",\"Copiers\",\"Copiers\",\"Copiers\",\"Envelopes\",\"Envelopes\",\"Envelopes\",\"Envelopes\",\"Fasteners\",\"Fasteners\",\"Fasteners\",\"Fasteners\",\"Furnishings\",\"Furnishings\",\"Furnishings\",\"Furnishings\",\"Labels\",\"Labels\",\"Labels\",\"Labels\",\"Machines\",\"Machines\",\"Machines\",\"Machines\",\"Paper\",\"Paper\",\"Paper\",\"Paper\",\"Phones\",\"Phones\",\"Phones\",\"Phones\",\"Storage\",\"Storage\",\"Storage\",\"Storage\",\"Supplies\",\"Supplies\",\"Supplies\",\"Supplies\",\"Tables\",\"Tables\",\"Tables\",\"Tables\",\"First Class\",\"First Class\",\"First Class\",\"Same Day\",\"Same Day\",\"Same Day\",\"Second Class\",\"Second Class\",\"Second Class\",\"Standard Class\",\"Standard Class\",\"Standard Class\",\"Furniture\",\"Office Supplies\",\"Technology\"],\"name\":\"\",\"parents\":[\"Technology\\u002fFirst Class\",\"Technology\\u002fSame Day\",\"Technology\\u002fSecond Class\",\"Technology\\u002fStandard Class\",\"Office Supplies\\u002fFirst Class\",\"Office Supplies\\u002fSame Day\",\"Office Supplies\\u002fSecond Class\",\"Office Supplies\\u002fStandard Class\",\"Office Supplies\\u002fFirst Class\",\"Office Supplies\\u002fSame Day\",\"Office Supplies\\u002fSecond Class\",\"Office Supplies\\u002fStandard Class\",\"Office Supplies\\u002fFirst Class\",\"Office Supplies\\u002fSame Day\",\"Office Supplies\\u002fSecond Class\",\"Office Supplies\\u002fStandard Class\",\"Furniture\\u002fFirst Class\",\"Furniture\\u002fSame Day\",\"Furniture\\u002fSecond Class\",\"Furniture\\u002fStandard Class\",\"Furniture\\u002fFirst Class\",\"Furniture\\u002fSame Day\",\"Furniture\\u002fSecond Class\",\"Furniture\\u002fStandard Class\",\"Technology\\u002fFirst Class\",\"Technology\\u002fSame Day\",\"Technology\\u002fSecond Class\",\"Technology\\u002fStandard Class\",\"Office Supplies\\u002fFirst Class\",\"Office Supplies\\u002fSame Day\",\"Office Supplies\\u002fSecond Class\",\"Office Supplies\\u002fStandard Class\",\"Office Supplies\\u002fFirst Class\",\"Office Supplies\\u002fSame Day\",\"Office Supplies\\u002fSecond Class\",\"Office Supplies\\u002fStandard Class\",\"Furniture\\u002fFirst Class\",\"Furniture\\u002fSame Day\",\"Furniture\\u002fSecond Class\",\"Furniture\\u002fStandard Class\",\"Office Supplies\\u002fFirst Class\",\"Office Supplies\\u002fSame Day\",\"Office Supplies\\u002fSecond Class\",\"Office Supplies\\u002fStandard Class\",\"Technology\\u002fFirst Class\",\"Technology\\u002fSame Day\",\"Technology\\u002fSecond Class\",\"Technology\\u002fStandard Class\",\"Office Supplies\\u002fFirst Class\",\"Office Supplies\\u002fSame Day\",\"Office Supplies\\u002fSecond Class\",\"Office Supplies\\u002fStandard Class\",\"Technology\\u002fFirst Class\",\"Technology\\u002fSame Day\",\"Technology\\u002fSecond Class\",\"Technology\\u002fStandard Class\",\"Office Supplies\\u002fFirst Class\",\"Office Supplies\\u002fSame Day\",\"Office Supplies\\u002fSecond Class\",\"Office Supplies\\u002fStandard Class\",\"Office Supplies\\u002fFirst Class\",\"Office Supplies\\u002fSame Day\",\"Office Supplies\\u002fSecond Class\",\"Office Supplies\\u002fStandard Class\",\"Furniture\\u002fFirst Class\",\"Furniture\\u002fSame Day\",\"Furniture\\u002fSecond Class\",\"Furniture\\u002fStandard Class\",\"Furniture\",\"Office Supplies\",\"Technology\",\"Furniture\",\"Office Supplies\",\"Technology\",\"Furniture\",\"Office Supplies\",\"Technology\",\"Furniture\",\"Office Supplies\",\"Technology\",\"\",\"\",\"\"],\"values\":[22226.692,13777.224,37572.986,93803.416,15726.024,6270.592000000001,26538.239,58997.306,3470.088,1437.476,5270.03,16941.198,36157.813,5819.505,27115.342,134320.073,21065.3189,2970.5820000000003,22307.2129,68536.8825,47706.472,21659.716,74872.058,183929.48500000002,39369.63,7559.868,18899.628,83698.904,2563.456,790.476,2847.608,10274.862,357.598,139.752,478.018,2048.912,13157.956,4874.134,15416.006,58257.068,1835.98,566.448,3352.534,6731.35,24153.401,22798.537,22493.7,119792.993,11379.798,4705.696,17233.45,45160.262,53615.868,15988.236,63255.228,197147.722,26273.257999999998,8850.226,48469.372,140250.752,3568.294,510.31,29378.41,13216.524,28800.776,9644.347,43693.7475,124826.6615,110730.52290000001,101332.309,139365.59100000001,39148.779,29090.481,60123.865000000005,156289.0244,160683.003,142221.54200000002,435550.097,427941.239,494443.03500000003,741718.4233,719047.032,836154.033],\"type\":\"treemap\"}],                        {\"template\":{\"data\":{\"histogram2dcontour\":[{\"type\":\"histogram2dcontour\",\"colorbar\":{\"outlinewidth\":0,\"ticks\":\"\"},\"colorscale\":[[0.0,\"#0d0887\"],[0.1111111111111111,\"#46039f\"],[0.2222222222222222,\"#7201a8\"],[0.3333333333333333,\"#9c179e\"],[0.4444444444444444,\"#bd3786\"],[0.5555555555555556,\"#d8576b\"],[0.6666666666666666,\"#ed7953\"],[0.7777777777777778,\"#fb9f3a\"],[0.8888888888888888,\"#fdca26\"],[1.0,\"#f0f921\"]]}],\"choropleth\":[{\"type\":\"choropleth\",\"colorbar\":{\"outlinewidth\":0,\"ticks\":\"\"}}],\"histogram2d\":[{\"type\":\"histogram2d\",\"colorbar\":{\"outlinewidth\":0,\"ticks\":\"\"},\"colorscale\":[[0.0,\"#0d0887\"],[0.1111111111111111,\"#46039f\"],[0.2222222222222222,\"#7201a8\"],[0.3333333333333333,\"#9c179e\"],[0.4444444444444444,\"#bd3786\"],[0.5555555555555556,\"#d8576b\"],[0.6666666666666666,\"#ed7953\"],[0.7777777777777778,\"#fb9f3a\"],[0.8888888888888888,\"#fdca26\"],[1.0,\"#f0f921\"]]}],\"heatmap\":[{\"type\":\"heatmap\",\"colorbar\":{\"outlinewidth\":0,\"ticks\":\"\"},\"colorscale\":[[0.0,\"#0d0887\"],[0.1111111111111111,\"#46039f\"],[0.2222222222222222,\"#7201a8\"],[0.3333333333333333,\"#9c179e\"],[0.4444444444444444,\"#bd3786\"],[0.5555555555555556,\"#d8576b\"],[0.6666666666666666,\"#ed7953\"],[0.7777777777777778,\"#fb9f3a\"],[0.8888888888888888,\"#fdca26\"],[1.0,\"#f0f921\"]]}],\"heatmapgl\":[{\"type\":\"heatmapgl\",\"colorbar\":{\"outlinewidth\":0,\"ticks\":\"\"},\"colorscale\":[[0.0,\"#0d0887\"],[0.1111111111111111,\"#46039f\"],[0.2222222222222222,\"#7201a8\"],[0.3333333333333333,\"#9c179e\"],[0.4444444444444444,\"#bd3786\"],[0.5555555555555556,\"#d8576b\"],[0.6666666666666666,\"#ed7953\"],[0.7777777777777778,\"#fb9f3a\"],[0.8888888888888888,\"#fdca26\"],[1.0,\"#f0f921\"]]}],\"contourcarpet\":[{\"type\":\"contourcarpet\",\"colorbar\":{\"outlinewidth\":0,\"ticks\":\"\"}}],\"contour\":[{\"type\":\"contour\",\"colorbar\":{\"outlinewidth\":0,\"ticks\":\"\"},\"colorscale\":[[0.0,\"#0d0887\"],[0.1111111111111111,\"#46039f\"],[0.2222222222222222,\"#7201a8\"],[0.3333333333333333,\"#9c179e\"],[0.4444444444444444,\"#bd3786\"],[0.5555555555555556,\"#d8576b\"],[0.6666666666666666,\"#ed7953\"],[0.7777777777777778,\"#fb9f3a\"],[0.8888888888888888,\"#fdca26\"],[1.0,\"#f0f921\"]]}],\"surface\":[{\"type\":\"surface\",\"colorbar\":{\"outlinewidth\":0,\"ticks\":\"\"},\"colorscale\":[[0.0,\"#0d0887\"],[0.1111111111111111,\"#46039f\"],[0.2222222222222222,\"#7201a8\"],[0.3333333333333333,\"#9c179e\"],[0.4444444444444444,\"#bd3786\"],[0.5555555555555556,\"#d8576b\"],[0.6666666666666666,\"#ed7953\"],[0.7777777777777778,\"#fb9f3a\"],[0.8888888888888888,\"#fdca26\"],[1.0,\"#f0f921\"]]}],\"mesh3d\":[{\"type\":\"mesh3d\",\"colorbar\":{\"outlinewidth\":0,\"ticks\":\"\"}}],\"scatter\":[{\"fillpattern\":{\"fillmode\":\"overlay\",\"size\":10,\"solidity\":0.2},\"type\":\"scatter\"}],\"parcoords\":[{\"type\":\"parcoords\",\"line\":{\"colorbar\":{\"outlinewidth\":0,\"ticks\":\"\"}}}],\"scatterpolargl\":[{\"type\":\"scatterpolargl\",\"marker\":{\"colorbar\":{\"outlinewidth\":0,\"ticks\":\"\"}}}],\"bar\":[{\"error_x\":{\"color\":\"#2a3f5f\"},\"error_y\":{\"color\":\"#2a3f5f\"},\"marker\":{\"line\":{\"color\":\"#E5ECF6\",\"width\":0.5},\"pattern\":{\"fillmode\":\"overlay\",\"size\":10,\"solidity\":0.2}},\"type\":\"bar\"}],\"scattergeo\":[{\"type\":\"scattergeo\",\"marker\":{\"colorbar\":{\"outlinewidth\":0,\"ticks\":\"\"}}}],\"scatterpolar\":[{\"type\":\"scatterpolar\",\"marker\":{\"colorbar\":{\"outlinewidth\":0,\"ticks\":\"\"}}}],\"histogram\":[{\"marker\":{\"pattern\":{\"fillmode\":\"overlay\",\"size\":10,\"solidity\":0.2}},\"type\":\"histogram\"}],\"scattergl\":[{\"type\":\"scattergl\",\"marker\":{\"colorbar\":{\"outlinewidth\":0,\"ticks\":\"\"}}}],\"scatter3d\":[{\"type\":\"scatter3d\",\"line\":{\"colorbar\":{\"outlinewidth\":0,\"ticks\":\"\"}},\"marker\":{\"colorbar\":{\"outlinewidth\":0,\"ticks\":\"\"}}}],\"scattermapbox\":[{\"type\":\"scattermapbox\",\"marker\":{\"colorbar\":{\"outlinewidth\":0,\"ticks\":\"\"}}}],\"scatterternary\":[{\"type\":\"scatterternary\",\"marker\":{\"colorbar\":{\"outlinewidth\":0,\"ticks\":\"\"}}}],\"scattercarpet\":[{\"type\":\"scattercarpet\",\"marker\":{\"colorbar\":{\"outlinewidth\":0,\"ticks\":\"\"}}}],\"carpet\":[{\"aaxis\":{\"endlinecolor\":\"#2a3f5f\",\"gridcolor\":\"white\",\"linecolor\":\"white\",\"minorgridcolor\":\"white\",\"startlinecolor\":\"#2a3f5f\"},\"baxis\":{\"endlinecolor\":\"#2a3f5f\",\"gridcolor\":\"white\",\"linecolor\":\"white\",\"minorgridcolor\":\"white\",\"startlinecolor\":\"#2a3f5f\"},\"type\":\"carpet\"}],\"table\":[{\"cells\":{\"fill\":{\"color\":\"#EBF0F8\"},\"line\":{\"color\":\"white\"}},\"header\":{\"fill\":{\"color\":\"#C8D4E3\"},\"line\":{\"color\":\"white\"}},\"type\":\"table\"}],\"barpolar\":[{\"marker\":{\"line\":{\"color\":\"#E5ECF6\",\"width\":0.5},\"pattern\":{\"fillmode\":\"overlay\",\"size\":10,\"solidity\":0.2}},\"type\":\"barpolar\"}],\"pie\":[{\"automargin\":true,\"type\":\"pie\"}]},\"layout\":{\"autotypenumbers\":\"strict\",\"colorway\":[\"#636efa\",\"#EF553B\",\"#00cc96\",\"#ab63fa\",\"#FFA15A\",\"#19d3f3\",\"#FF6692\",\"#B6E880\",\"#FF97FF\",\"#FECB52\"],\"font\":{\"color\":\"#2a3f5f\"},\"hovermode\":\"closest\",\"hoverlabel\":{\"align\":\"left\"},\"paper_bgcolor\":\"white\",\"plot_bgcolor\":\"#E5ECF6\",\"polar\":{\"bgcolor\":\"#E5ECF6\",\"angularaxis\":{\"gridcolor\":\"white\",\"linecolor\":\"white\",\"ticks\":\"\"},\"radialaxis\":{\"gridcolor\":\"white\",\"linecolor\":\"white\",\"ticks\":\"\"}},\"ternary\":{\"bgcolor\":\"#E5ECF6\",\"aaxis\":{\"gridcolor\":\"white\",\"linecolor\":\"white\",\"ticks\":\"\"},\"baxis\":{\"gridcolor\":\"white\",\"linecolor\":\"white\",\"ticks\":\"\"},\"caxis\":{\"gridcolor\":\"white\",\"linecolor\":\"white\",\"ticks\":\"\"}},\"coloraxis\":{\"colorbar\":{\"outlinewidth\":0,\"ticks\":\"\"}},\"colorscale\":{\"sequential\":[[0.0,\"#0d0887\"],[0.1111111111111111,\"#46039f\"],[0.2222222222222222,\"#7201a8\"],[0.3333333333333333,\"#9c179e\"],[0.4444444444444444,\"#bd3786\"],[0.5555555555555556,\"#d8576b\"],[0.6666666666666666,\"#ed7953\"],[0.7777777777777778,\"#fb9f3a\"],[0.8888888888888888,\"#fdca26\"],[1.0,\"#f0f921\"]],\"sequentialminus\":[[0.0,\"#0d0887\"],[0.1111111111111111,\"#46039f\"],[0.2222222222222222,\"#7201a8\"],[0.3333333333333333,\"#9c179e\"],[0.4444444444444444,\"#bd3786\"],[0.5555555555555556,\"#d8576b\"],[0.6666666666666666,\"#ed7953\"],[0.7777777777777778,\"#fb9f3a\"],[0.8888888888888888,\"#fdca26\"],[1.0,\"#f0f921\"]],\"diverging\":[[0,\"#8e0152\"],[0.1,\"#c51b7d\"],[0.2,\"#de77ae\"],[0.3,\"#f1b6da\"],[0.4,\"#fde0ef\"],[0.5,\"#f7f7f7\"],[0.6,\"#e6f5d0\"],[0.7,\"#b8e186\"],[0.8,\"#7fbc41\"],[0.9,\"#4d9221\"],[1,\"#276419\"]]},\"xaxis\":{\"gridcolor\":\"white\",\"linecolor\":\"white\",\"ticks\":\"\",\"title\":{\"standoff\":15},\"zerolinecolor\":\"white\",\"automargin\":true,\"zerolinewidth\":2},\"yaxis\":{\"gridcolor\":\"white\",\"linecolor\":\"white\",\"ticks\":\"\",\"title\":{\"standoff\":15},\"zerolinecolor\":\"white\",\"automargin\":true,\"zerolinewidth\":2},\"scene\":{\"xaxis\":{\"backgroundcolor\":\"#E5ECF6\",\"gridcolor\":\"white\",\"linecolor\":\"white\",\"showbackground\":true,\"ticks\":\"\",\"zerolinecolor\":\"white\",\"gridwidth\":2},\"yaxis\":{\"backgroundcolor\":\"#E5ECF6\",\"gridcolor\":\"white\",\"linecolor\":\"white\",\"showbackground\":true,\"ticks\":\"\",\"zerolinecolor\":\"white\",\"gridwidth\":2},\"zaxis\":{\"backgroundcolor\":\"#E5ECF6\",\"gridcolor\":\"white\",\"linecolor\":\"white\",\"showbackground\":true,\"ticks\":\"\",\"zerolinecolor\":\"white\",\"gridwidth\":2}},\"shapedefaults\":{\"line\":{\"color\":\"#2a3f5f\"}},\"annotationdefaults\":{\"arrowcolor\":\"#2a3f5f\",\"arrowhead\":0,\"arrowwidth\":1},\"geo\":{\"bgcolor\":\"white\",\"landcolor\":\"#E5ECF6\",\"subunitcolor\":\"white\",\"showland\":true,\"showlakes\":true,\"lakecolor\":\"white\"},\"title\":{\"x\":0.05},\"mapbox\":{\"style\":\"light\"}}},\"legend\":{\"tracegroupgap\":0},\"margin\":{\"t\":60}},                        {\"responsive\": true}                    ).then(function(){\n",
              "                            \n",
              "var gd = document.getElementById('e4b54f8a-ff80-4ce7-a96b-b2b181aaf610');\n",
              "var x = new MutationObserver(function (mutations, observer) {{\n",
              "        var display = window.getComputedStyle(gd).display;\n",
              "        if (!display || display === 'none') {{\n",
              "            console.log([gd, 'removed!']);\n",
              "            Plotly.purge(gd);\n",
              "            observer.disconnect();\n",
              "        }}\n",
              "}});\n",
              "\n",
              "// Listen for the removal of the full notebook cells\n",
              "var notebookContainer = gd.closest('#notebook-container');\n",
              "if (notebookContainer) {{\n",
              "    x.observe(notebookContainer, {childList: true});\n",
              "}}\n",
              "\n",
              "// Listen for the clearing of the current output cell\n",
              "var outputEl = gd.closest('.output');\n",
              "if (outputEl) {{\n",
              "    x.observe(outputEl, {childList: true});\n",
              "}}\n",
              "\n",
              "                        })                };                            </script>        </div>\n",
              "</body>\n",
              "</html>"
            ]
          },
          "metadata": {}
        }
      ]
    }
  ],
  "metadata": {
    "colab": {
      "provenance": [],
      "authorship_tag": "ABX9TyPWmHprjMVZ2L9gqetVBH0A"
    },
    "kernelspec": {
      "display_name": "Python 3",
      "name": "python3"
    },
    "language_info": {
      "name": "python"
    }
  },
  "nbformat": 4,
  "nbformat_minor": 0
}